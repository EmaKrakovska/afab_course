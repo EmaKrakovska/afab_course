{
 "cells": [
  {
   "cell_type": "markdown",
   "metadata": {},
   "source": [
    "# Computer Art"
   ]
  },
  {
   "cell_type": "markdown",
   "metadata": {},
   "source": [
    "![molnar](https://media.vam.ac.uk/media/thira/collection_images/2011EY/2011EY3121_jpg_l.jpg)\n",
    "\n",
    "**Structures of Squares**, *Vera Molnar (1974)*"
   ]
  },
  {
   "cell_type": "markdown",
   "metadata": {},
   "source": [
    "## Exercise\n",
    "\n",
    "Choose one artist/piece, identify the rules of the piece and replicate. Check the example file on Vera Molnar's piece."
   ]
  },
  {
   "cell_type": "markdown",
   "metadata": {},
   "source": [
    "## Artists\n",
    "\n",
    "- Manuel Barbadillo\n",
    "- Herbert W. Franke\n",
    "- Frieder Nake *\n",
    "- Michael Noll *\n",
    "- Ben Laposky\n",
    "- Georg Nees\n",
    "- Manfred Mohr *\n",
    "- Bela Julesz\n",
    "- Paul Braun\n",
    "- Hiroshi Kawano\n",
    "- Vera Molnar *\n",
    "- Charles Csuri *\n",
    "- Laurie Spiegel\n",
    "- Harold Cohen\n",
    "- Kenneth Knowlton\n",
    "- Roman Verostko\n",
    "- Lillian Schwartz\n",
    "- Desmond Paul Henry\n",
    "- Leon Harmon\n",
    "- Mark Wilson"
   ]
  },
  {
   "cell_type": "markdown",
   "metadata": {},
   "source": [
    "## Links\n",
    "\n",
    "- https://www.vam.ac.uk/exhibitions/chance-and-control-art-in-the-age-of-computers\n",
    "- http://www.dam-gallery.de/index.php?id=9\n",
    "- http://recodeproject.com/\n",
    "- https://bitforms.art\n",
    "- http://dada.compart-bremen.de"
   ]
  },
  {
   "cell_type": "code",
   "execution_count": null,
   "metadata": {},
   "outputs": [],
   "source": []
  }
 ],
 "metadata": {
  "kernelspec": {
   "display_name": "Python 3",
   "language": "python",
   "name": "python3"
  },
  "language_info": {
   "codemirror_mode": {
    "name": "ipython",
    "version": 3
   },
   "file_extension": ".py",
   "mimetype": "text/x-python",
   "name": "python",
   "nbconvert_exporter": "python",
   "pygments_lexer": "ipython3",
   "version": "3.6.6"
  }
 },
 "nbformat": 4,
 "nbformat_minor": 2
}
