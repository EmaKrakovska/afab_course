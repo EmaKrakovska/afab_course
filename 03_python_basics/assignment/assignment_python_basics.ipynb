{
 "cells": [
  {
   "cell_type": "markdown",
   "metadata": {
    "slideshow": {
     "slide_type": "slide"
    }
   },
   "source": [
    "### Assignment"
   ]
  },
  {
   "cell_type": "markdown",
   "metadata": {
    "slideshow": {
     "slide_type": "slide"
    }
   },
   "source": [
    "### 1. Write a recursive function that divides a number by 2.\n",
    "\n",
    "Note: do not forget to include an exist statement (for example a counter that increases with every funciton call and stops the function when it reaches a given number)!"
   ]
  },
  {
   "cell_type": "code",
   "execution_count": 1,
   "metadata": {},
   "outputs": [
    {
     "name": "stdout",
     "output_type": "stream",
     "text": [
      "10\n"
     ]
    }
   ],
   "source": [
    "def divide_by_2(number, max_iteration, counter=0):\n",
    "    \n",
    "    print(number)\n",
    "    \n",
    "    # fill in the code here\n",
    "    \n",
    "divide_by_2(10, max_iteration=10)"
   ]
  },
  {
   "cell_type": "markdown",
   "metadata": {
    "slideshow": {
     "slide_type": "slide"
    }
   },
   "source": [
    "### 2.a Recursive Branching 2D\n",
    "Write a recursive function for in Grasshopper Python, which creates a random 2D or 3D branching structure. Use the file [recursion_input.3dm](recursion_input.3dm) and fill in the missing code in the file [assignment_recursion01_branches2d3d.gh](assignment_recursion01_branches2d3d.gh)."
   ]
  },
  {
   "cell_type": "markdown",
   "metadata": {},
   "source": [
    "The output of the 2D branching should look similar to this:\n",
    "![Output of 2D branching:](images/branches2d.jpg)"
   ]
  },
  {
   "cell_type": "markdown",
   "metadata": {},
   "source": [
    "and of the 3D branching should look similar to this:\n",
    "![Output of 2D branching:](images/branches3d.jpg)"
   ]
  },
  {
   "cell_type": "markdown",
   "metadata": {},
   "source": [
    "### 2.b Recursive Branching 3D\n",
    "Write a recursive function for in Grasshopper Python, which creates a random 3D branching structure with boxes around the branches. Use the file [recursion_input.3dm](recursion_input.3dm) and fill in the missing code in the file [assignment_recursion02_boxesd3d.gh](assignment_recursion02_boxes3d.gh).\n"
   ]
  },
  {
   "cell_type": "markdown",
   "metadata": {},
   "source": [
    "The output of the 3D recursive boxes should look similar to this:\n",
    "![Output of 2D branching:](images/boxes3d.jpg)"
   ]
  },
  {
   "cell_type": "code",
   "execution_count": null,
   "metadata": {},
   "outputs": [],
   "source": []
  }
 ],
 "metadata": {
  "celltoolbar": "Slideshow",
  "kernelspec": {
   "display_name": "Python 3",
   "language": "python",
   "name": "python3"
  },
  "language_info": {
   "codemirror_mode": {
    "name": "ipython",
    "version": 3
   },
   "file_extension": ".py",
   "mimetype": "text/x-python",
   "name": "python",
   "nbconvert_exporter": "python",
   "pygments_lexer": "ipython3",
   "version": "3.6.7"
  },
  "rise": {
   "theme": "white"
  }
 },
 "nbformat": 4,
 "nbformat_minor": 2
}
