{
 "cells": [
  {
   "cell_type": "code",
   "execution_count": 1,
   "metadata": {
    "slideshow": {
     "slide_type": "skip"
    }
   },
   "outputs": [],
   "source": [
    "from notebook.services.config import ConfigManager\n",
    "cm = ConfigManager()\n",
    "cm.update('livereveal', {'scroll': True,})\n",
    "\n",
    "%load_ext autoreload\n",
    "%autoreload 2"
   ]
  },
  {
   "cell_type": "markdown",
   "metadata": {},
   "source": [
    "# What is a robot?\n",
    "\n",
    "<img width=\"600\" src=\"https://www.therobotreport.com/wp-content/uploads/2019/06/Industrial-Robot-Sales-Broke-Records-in-2018.jpg\" />"
   ]
  },
  {
   "cell_type": "markdown",
   "metadata": {
    "slideshow": {
     "slide_type": "notes"
    }
   },
   "source": [
    "The robot is a machine that, independently of its exterior, is able to modify the environment in which it operates.\n",
    "_Robotics_ is commonly defined as the science studying the _intelligent connection between perception and action_.\n",
    "\n",
    "\n",
    "https://www.federica.eu/l/introduction_to_robotics\n",
    "    \n",
    "B. Siciliano, L. Sciavicco, L. Villani, G. Oriolo, Robotics: Modelling, Planning and Control, Springer, London, 2009, ISBN 978-1-84628-642-1\n",
    "    "
   ]
  },
  {
   "cell_type": "markdown",
   "metadata": {
    "slideshow": {
     "slide_type": "slide"
    }
   },
   "source": [
    "## Basic robot components\n",
    "\n",
    "<table style=\"font-size:100%\">\n",
    "<tr style=\"background: none;\">\n",
    "<td style=\"text-align: left; width:30%\">\n",
    "Most of the industrial robots have 6 basic components: <br /><br />\n",
    "<ul>\n",
    "<li>manipulator</li>\n",
    "<li>end-effector</li>\n",
    "<li>actuators</li>\n",
    "<li>sensors</li>\n",
    "<li>controller</li>\n",
    "<li>teach pendant</li>\n",
    "</ul>\n",
    "</td>\n",
    "<td style=\"text-align: left;\">\n",
    "<img style='height:550px' src=\"images/basic_robot_components.svg\" />\n",
    "</td>\n",
    "</tr>\n",
    "</table>"
   ]
  },
  {
   "cell_type": "markdown",
   "metadata": {
    "slideshow": {
     "slide_type": "notes"
    }
   },
   "source": [
    "### Manipulator\n",
    "* A collection of links (mechanical linkages) connected by joints\n",
    "* Generally, joints are either revolute (rotary) or prismatic (linear)\n",
    "* Each joint has joint axis along which the particular link either rotates or slides\n",
    "* Every joint axis identifies a degree of freedom (DOF)\n",
    "\n",
    "### End-effector\n",
    "* The part that is connected to the last joint of a manipulator\n",
    "* The _hand_ or _tool_ which performs the required task depending on the fabrication process\n",
    "* If actuated (e.g. gripper gripping) the end-effector can be controlled by the robots controller via I/O.\n",
    "\n",
    "### Actuators\n",
    "* Used to move the elements of the manipulators\n",
    "* Each actuator is driven by a controller\n",
    "* Can be electric motors (servomotor, stepper motor), pneumatic cylinders or hydraulic cylinders\n",
    "\n",
    "### Sensors\n",
    "* Internal sensors: check joint position, temperature, force, ...\n",
    "* External sensors: percept environment\n",
    "    \n",
    "### Controller\n",
    "* Brain of the robot\n",
    "* Receives the data from the computer, controls the motions of the actuators and coordintes the motions with the sensory feedback information.\n",
    "\n",
    "### Teach pendant\n",
    "* A control box for programming the motions of a robot\n",
    "* Teach pendants are typically handheld devices and may be wired or wireless"
   ]
  },
  {
   "cell_type": "markdown",
   "metadata": {
    "slideshow": {
     "slide_type": "slide"
    }
   },
   "source": [
    "## Robot coordinate frames\n",
    "\n",
    "<table style=\"font-size:100%\">\n",
    "<tr style=\"background: none;\">\n",
    "<td style=\"text-align: left; width:40%; vertical-align: top;\">\n",
    "<ul>\n",
    "<li>World coordinate frame (WCF)</li>\n",
    "<li>Robot coordinate frame (RCF)</li>\n",
    "<li>Tool0 coordinate frame (T0CF)</li>\n",
    "<li>Tool coordinate frame (TCF)</li>\n",
    "<li>Object coordinate frame (OCF)</li>\n",
    "</ul>\n",
    "</td>\n",
    "<td style=\"text-align: left;\">\n",
    "<img width=\"600\" src=\"https://gramaziokohler.github.io/compas_fab/latest/_images/02_coordinate_frames.jpg\" />\n",
    "</td>\n",
    "</tr>\n",
    "</table>"
   ]
  },
  {
   "cell_type": "markdown",
   "metadata": {
    "slideshow": {
     "slide_type": "slide"
    }
   },
   "source": [
    "## Robot workspace\n",
    "\n",
    "Workspace is the envelope the robot can reach. \n",
    "\n",
    "<table style=\"font-size:100%\">\n",
    "<tr style=\"background: none;\">\n",
    "<td><img src=\"https://www.federica.eu/users/46/images/siciliano-bruno-42271-01-71301-18-1.jpg\" /></td>\n",
    "<td><img src=\"https://www.federica.eu/users/46/images/siciliano-bruno-42271-01-71301-17-1.jpg\" /></td>\n",
    "<td><img src=\"https://www.federica.eu/users/46/images/siciliano-bruno-42271-01-71301-14-1.jpg\" /></td>\n",
    "</tr>\n",
    "<tr style=\"background: none;\">\n",
    "<td style=\"text-align:center;\">anthropomorphic manipulator</td>\n",
    "<td style=\"text-align:center;\">SCARA manipulator</td>\n",
    "<td style=\"text-align:center;\">cartesian manipulator</td>\n",
    "</tr>\n",
    "</table>"
   ]
  },
  {
   "cell_type": "markdown",
   "metadata": {},
   "source": [
    "<h1 style=\"background: #ffff00\">Gonzalo start</h1>"
   ]
  },
  {
   "cell_type": "markdown",
   "metadata": {
    "slideshow": {
     "slide_type": "slide"
    }
   },
   "source": [
    "## Robot programming 🤖\n",
    "\n",
    "* Offline control\n",
    "* Online real-time control\n",
    "* Online non-real-time control"
   ]
  },
  {
   "cell_type": "markdown",
   "metadata": {
    "slideshow": {
     "slide_type": "slide"
    }
   },
   "source": [
    "## Robot programming 🤖\n",
    "\n",
    "### Traditional (offline) programming\n",
    "\n",
    "Vendor-proprietary language and tools:\n",
    "\n",
    "<table>\n",
    "<tr>\n",
    "   <th>Vendor</th>\n",
    "   <th>Language</th>\n",
    "   <th>Software</th>\n",
    "</tr>\n",
    "<tr>\n",
    "<td>\n",
    "ABB<br />\n",
    "Staubli<br />\n",
    "UR<br />\n",
    "KUKA<br />\n",
    "</td>\n",
    "<td>\n",
    "RAPID<br />\n",
    "VAL3<br />\n",
    "URScript<br />\n",
    "KRL<br />\n",
    "</td>\n",
    "<td>\n",
    "ABB RobotStudio<br />\n",
    "Staubli Robotics Suite<br />\n",
    "URSim<br />\n",
    "KUKA WorkVisual<br />\n",
    "</td>\n",
    "</tr>\n",
    "</table>\n",
    "\n",
    "<img src=\"images/traditional_robot_programming.svg\" />\n"
   ]
  },
  {
   "cell_type": "markdown",
   "metadata": {
    "slideshow": {
     "slide_type": "slide"
    }
   },
   "source": [
    "## Robot programming 🤖\n",
    "\n",
    "Control robots directly from within parametric design environment (Grasshopper, Dynamo, ...)\n",
    "\n",
    "<table>\n",
    "<tr>\n",
    "<th style=\"text-align: center;\">HAL</th>\n",
    "<th style=\"text-align: center;\">TACO</th>\n",
    "<th style=\"text-align: center;\">KUKA|prc</th>\n",
    "<th style=\"text-align: center;\">Scorpion</th>\n",
    "<th style=\"text-align: center;\">visose</th>\n",
    "<th style=\"text-align: center;\">Machina</th>\n",
    "</tr>\n",
    "<tr>\n",
    "<td><img style=\"height: 80px\" src=\"https://hal-robotics.com/wp-content/uploads/2017/08/HALRoboticsLogoSmall.png\" /></td>\n",
    "<td><img style=\"height: 80px\" src=\"http://blickfeld7.com/architecture/rhino/grasshopper/Taco/img/Logo.png\" /></td>\n",
    "<td><img style=\"height: 80px\" src=\"https://www.robotsinarchitecture.org/wp-content/uploads/2015/05/prclogo1.png\" /></td>\n",
    "<td><img style=\"height: 80px\" src=\"https://static.food4rhino.com/s3fs-public/styles/thumbnail/public/users-files/scorpion/app/logosmall.png\" /></td>\n",
    "<td><img style=\"height: 80px\" src=\"https://github.com/visose/Robots/raw/master/Documentation/Images/title.png\" /></td>\n",
    "<td><img style=\"height: 80px\" src=\"https://avatars2.githubusercontent.com/u/37315479?s=200&v=4\" /></td>\n",
    "</tr>\n",
    "</table>"
   ]
  },
  {
   "cell_type": "markdown",
   "metadata": {
    "slideshow": {
     "slide_type": "fragment"
    }
   },
   "source": [
    "## Robot programming 🤖\n",
    "\n",
    "### Online programming\n",
    "\n",
    "<img src=\"images/online_robot_programming.svg\" />"
   ]
  },
  {
   "cell_type": "code",
   "execution_count": null,
   "metadata": {},
   "outputs": [],
   "source": [
    "TODO ### ROS\n"
   ]
  },
  {
   "cell_type": "code",
   "execution_count": null,
   "metadata": {},
   "outputs": [],
   "source": [
    "TODO: example online control"
   ]
  },
  {
   "cell_type": "code",
   "execution_count": 1,
   "metadata": {
    "slideshow": {
     "slide_type": "slide"
    }
   },
   "outputs": [
    {
     "data": {
      "text/html": [
       "<h2>Online non-real-time control</h2><br /><iframe src=\"https://player.vimeo.com/video/56125747?title=0&byline=0&portrait=0\" width=\"700\" height=\"394\" frameborder=\"0\" webkitallowfullscreen mozallowfullscreen allowfullscreen></iframe><p><a href=\"https://vimeo.com/56125747\"></p>"
      ],
      "text/plain": [
       "<IPython.core.display.HTML object>"
      ]
     },
     "execution_count": 1,
     "metadata": {},
     "output_type": "execute_result"
    }
   ],
   "source": [
    "from IPython.display import HTML\n",
    "HTML('<h2>Online non-real-time control</h2><br /><iframe src=\"https://player.vimeo.com/video/56125747?title=0&byline=0&portrait=0\" width=\"700\" height=\"394\" frameborder=\"0\" webkitallowfullscreen mozallowfullscreen allowfullscreen></iframe><p><a href=\"https://vimeo.com/56125747\"></p>')"
   ]
  },
  {
   "cell_type": "markdown",
   "metadata": {
    "slideshow": {
     "slide_type": "slide"
    }
   },
   "source": [
    "## Forward and inverse kinematics\n",
    "\n",
    "<img src=\"images/ik_fk.jpg\" style=\"height: 500px\" />"
   ]
  },
  {
   "cell_type": "markdown",
   "metadata": {
    "slideshow": {
     "slide_type": "slide"
    }
   },
   "source": [
    "## Robot singularities\n",
    "\n",
    "An industrial robot can be controlled in two spaces: joint space and Cartesian space.\n",
    "\n",
    "* `MoveJ` – move the robot linear in joint space\n",
    "* `MoveL` or `MoveC` – move the robot linear/circular in cartesian space (ee-velocity)\n",
    "\n",
    "A robot singularity occurs if the robot moves in Cartesian space and the controller fails to calculate inverse kinematics (position and velocity)."
   ]
  },
  {
   "cell_type": "markdown",
   "metadata": {
    "slideshow": {
     "slide_type": "notes"
    }
   },
   "source": [
    "For `MoveL` you specify a desired pose for the end-effector AND a desired Cartesian path. \n",
    "To find the necessary joint positions along the desired Cartesian path, the robot controller must calculate\n",
    "the inverse position and velocity kinematics of the robot. Singularities arise when this calculation fails\n",
    "(for example, division by zero or infinite angular velocity) and must therefore be avoided.\n",
    "\n",
    "Jogging a six-axis robotic arm in joint space, and the only time the robot will stop is when a joint hits\n",
    "a limit or when there is a mechanical interference. "
   ]
  },
  {
   "cell_type": "code",
   "execution_count": 2,
   "metadata": {
    "slideshow": {
     "slide_type": "slide"
    }
   },
   "outputs": [
    {
     "data": {
      "text/html": [
       "<iframe src=\"https://player.vimeo.com/video/20095999?title=0&byline=0&portrait=0\" width=\"700\" height=\"394\" frameborder=\"0\" webkitallowfullscreen mozallowfullscreen allowfullscreen></iframe><p><a href=\"https://vimeo.com/20095999\"></p>"
      ],
      "text/plain": [
       "<IPython.core.display.HTML object>"
      ]
     },
     "execution_count": 2,
     "metadata": {},
     "output_type": "execute_result"
    }
   ],
   "source": [
    "from IPython.display import HTML\n",
    "HTML('<iframe src=\"https://player.vimeo.com/video/20095999?title=0&byline=0&portrait=0\" width=\"700\" height=\"394\" frameborder=\"0\" webkitallowfullscreen mozallowfullscreen allowfullscreen></iframe><p><a href=\"https://vimeo.com/20095999\"></p>')"
   ]
  },
  {
   "cell_type": "code",
   "execution_count": null,
   "metadata": {},
   "outputs": [],
   "source": [
    "=> hint at ROS\n",
    "ros uses only joint trajectories, so omitting singularities"
   ]
  },
  {
   "cell_type": "markdown",
   "metadata": {
    "slideshow": {
     "slide_type": "notes"
    }
   },
   "source": [
    "## Robot characteristics\n",
    "\n",
    "* payload\n",
    "* reach\n",
    "* precision\n",
    "* repeatability"
   ]
  },
  {
   "cell_type": "markdown",
   "metadata": {
    "slideshow": {
     "slide_type": "slide"
    }
   },
   "source": [
    "# Robot model"
   ]
  },
  {
   "cell_type": "markdown",
   "metadata": {
    "cell_style": "center",
    "slideshow": {
     "slide_type": "slide"
    }
   },
   "source": [
    "# Kinematic model\n",
    "\n",
    "A robotic arm is considered as a kinematic chain of rigid bodies (or links) connected by joints to provide constrained motion.\n",
    "These links are constrained by their connections to other links.\n",
    "\n",
    "All rigid body movements are rotations, translations, or combinations of the two.\n",
    "\n",
    "kinematics = subdomain of mechanics, contrary to dynamics it concerns laws of motion without considering forces"
   ]
  },
  {
   "cell_type": "markdown",
   "metadata": {
    "slideshow": {
     "slide_type": "slide"
    }
   },
   "source": [
    "<img src=\"https://gramaziokohler.github.io/compas_fab/latest/_images/01_robot_links_and_joints.jpg\" />"
   ]
  },
  {
   "cell_type": "markdown",
   "metadata": {
    "slideshow": {
     "slide_type": "slide"
    }
   },
   "source": [
    "## Kinematic chains\n",
    "\n",
    "<table>\n",
    "<tr>\n",
    "<td><img src=\"https://upload.wikimedia.org/wikipedia/commons/2/2c/Modele_cinematique_corps_humain.svg\" style=\"height: 300px\" /></td>\n",
    "<td><img src=\"https://upload.wikimedia.org/wikipedia/commons/thumb/a/a0/ATHLETE_robot_climbing_a_hill.jpg/640px-ATHLETE_robot_climbing_a_hill.jpg\" style=\"height: 300px\" /></td>\n",
    "<td><img src=\"https://upload.wikimedia.org/wikipedia/commons/f/f2/SteamEngine_Boulton%26Watt_1784.png\" style=\"height: 300px\" /></td>\n",
    "</tr>\n",
    "</table>"
   ]
  },
  {
   "cell_type": "markdown",
   "metadata": {
    "slideshow": {
     "slide_type": "notes"
    }
   },
   "source": [
    "In the kinematic model of a robot, the connection of different manipulator joints is known as link, and the \n",
    "integration of two or more links is called a joint. This kinematic model can be represented as a tree structure.\n",
    "The tree describes the kinematic chain, i.e., the connection of robotic links with joints, and the\n",
    "inter-dependendencies of these links.\n",
    "This tree structure plus the underlying geometric information can be defined in Unified Robot Description Format (URDF),\n",
    "which describes any robot. If the robot is mounted on external axes, these links and joints\n",
    "can be added as well."
   ]
  },
  {
   "cell_type": "code",
   "execution_count": null,
   "metadata": {},
   "outputs": [],
   "source": [
    "TODO:\n",
    "\n",
    "open kinematic chain: there is only one sequence of links connecting the two ends on the chain\n",
    "    Closed kinematics: when a sequence of links forms a loop"
   ]
  },
  {
   "cell_type": "markdown",
   "metadata": {
    "slideshow": {
     "slide_type": "slide"
    }
   },
   "source": [
    "## Unified Robot Description Format (URDF)"
   ]
  },
  {
   "cell_type": "markdown",
   "metadata": {
    "slideshow": {
     "slide_type": "slide"
    }
   },
   "source": [
    "### Part of ur5.urdf\n",
    "\n",
    "```xml\n",
    "<link name=\"base_link\">\n",
    "    <visual>\n",
    "      <geometry>\n",
    "        <mesh filename=\"package://ur_description/meshes/ur5/visual/base.obj\"/>\n",
    "      </geometry>\n",
    "      <material name=\"LightGrey\">\n",
    "        <color rgba=\"0.7 0.7 0.7 1.0\"/>\n",
    "      </material>\n",
    "    </visual>\n",
    "    <collision>\n",
    "      <geometry>\n",
    "        <mesh filename=\"package://ur_description/meshes/ur5/collision/base.stl\"/>\n",
    "      </geometry>\n",
    "    </collision>\n",
    "    <inertial>\n",
    "      <mass value=\"4.0\"/>\n",
    "      <origin rpy=\"0 0 0\" xyz=\"0.0 0.0 0.0\"/>\n",
    "      <inertia ixx=\"0.00443333156\" ixy=\"0.0\" ixz=\"0.0\" iyy=\"0.00443333156\" iyz=\"0.0\" izz=\"0.0072\"/>\n",
    "    </inertial>\n",
    "  </link>\n",
    "  \n",
    "  <joint name=\"shoulder_pan_joint\" type=\"revolute\">\n",
    "    <parent link=\"base_link\"/>\n",
    "    <child link=\"shoulder_link\"/>\n",
    "    <origin rpy=\"0.0 0.0 0.0\" xyz=\"0.0 0.0 0.089159\"/>\n",
    "    <axis xyz=\"0 0 1\"/>\n",
    "    <limit effort=\"150.0\" lower=\"-6.2831853\" upper=\"6.2831853\" velocity=\"3.15\"/>\n",
    "    <dynamics damping=\"0.0\" friction=\"0.0\"/>\n",
    "  </joint>\n",
    "```"
   ]
  },
  {
   "cell_type": "markdown",
   "metadata": {
    "slideshow": {
     "slide_type": "skip"
    }
   },
   "source": [
    "### Example UR5 URDF:\n",
    "\n",
    "https://github.com/ros-industrial/universal_robot/blob/kinetic-devel/ur_description/urdf/ur5.urdf.xacro"
   ]
  },
  {
   "cell_type": "code",
   "execution_count": 1,
   "metadata": {
    "slideshow": {
     "slide_type": "slide"
    }
   },
   "outputs": [
    {
     "data": {
      "text/plain": [
       "<viewer.threejs_viewer.RobotArtist at 0x1dd0f666828>"
      ]
     },
     "execution_count": 1,
     "metadata": {},
     "output_type": "execute_result"
    }
   ],
   "source": [
    "\"\"\"Example: Create robot from URDF.\n",
    "\"\"\"\n",
    "import compas_fab\n",
    "from compas.robots import RobotModel\n",
    "from compas.robots import GithubPackageMeshLoader\n",
    "\n",
    "from viewer import RobotArtist\n",
    "from viewer import ThreeJsViewer\n",
    "\n",
    "# repo, package, branch\n",
    "r = 'ros-industrial/abb'\n",
    "p = 'abb_irb6600_support'\n",
    "b = 'kinetic-devel'\n",
    "\n",
    "# download urdf and meshes from github\n",
    "loader = GithubPackageMeshLoader(r, p, b)\n",
    "urdf = loader.load_urdf('irb6640.urdf')\n",
    "\n",
    "# create robot model from URDF\n",
    "model = RobotModel.from_urdf_file(urdf)\n",
    "model.load_geometry(loader)\n",
    "\n",
    "# create robot artist\n",
    "artist = RobotArtist(model)\n",
    "artist"
   ]
  },
  {
   "cell_type": "code",
   "execution_count": 2,
   "metadata": {
    "slideshow": {
     "slide_type": "slide"
    }
   },
   "outputs": [
    {
     "name": "stderr",
     "output_type": "stream",
     "text": [
      "C:\\ProgramData\\Anaconda3\\lib\\site-packages\\traittypes\\traittypes.py:101: UserWarning: Given trait value dtype \"int32\" does not match required type \"float32\". A coerced copy has been created.\n",
      "  np.dtype(self.dtype).name))\n"
     ]
    },
    {
     "data": {
      "application/vnd.jupyter.widget-view+json": {
       "model_id": "7adc9d253b134b5995a2085f0e9330ec",
       "version_major": 2,
       "version_minor": 0
      },
      "text/plain": [
       "Renderer(camera=PerspectiveCamera(aspect=1.5, children=(DirectionalLight(intensity=0.5, position=(0.0, 0.0, 1.…"
      ]
     },
     "metadata": {},
     "output_type": "display_data"
    }
   ],
   "source": [
    "geo = artist.draw_visual()\n",
    "viewer = ThreeJsViewer()\n",
    "viewer.show(geometry=geo)"
   ]
  },
  {
   "cell_type": "markdown",
   "metadata": {
    "slideshow": {
     "slide_type": "slide"
    }
   },
   "source": [
    "<table style=\"font-size:100%\">\n",
    "<tr style=\"background: none;\">\n",
    "<td style=\"text-align: left\"><pre><code class=\"python\">from compas_fab.rhino import RobotArtist</code></pre></td>\n",
    "<td style=\"text-align: left\"><pre><code class=\"python\">from compas_fab.blender import RobotArtist</code></pre></td>\n",
    "</tr>\n",
    "<tr>\n",
    "<td><img src=\"images/robot_artist_rhino.jpg\" /></td>\n",
    "<td><img src=\"images/robot_artist_blender.jpg\" /></td>\n",
    "</tr>\n",
    "</table>"
   ]
  },
  {
   "cell_type": "markdown",
   "metadata": {
    "slideshow": {
     "slide_type": "slide"
    }
   },
   "source": [
    "## Joints\n",
    "\n",
    "The joints are the elements in a robot which helps the links to travel in different kind of movements.\n",
    "The three major types of joints are:\n",
    "\n",
    "* Revolute: A hinge joint that rotates along the axis and has a limited range specified by the upper and lower limits.\n",
    "* Prismatic: A sliding joint that slides along the axis, and has a limited range specified by the upper and lower limits.\n",
    "* Fixed: Not really a joint because it cannot move, all degrees of freedom are locked.\n"
   ]
  },
  {
   "cell_type": "code",
   "execution_count": 8,
   "metadata": {},
   "outputs": [
    {
     "name": "stdout",
     "output_type": "stream",
     "text": [
      "0\n",
      "2\n",
      "3\n"
     ]
    }
   ],
   "source": [
    "from compas.robots import Joint\n",
    "\n",
    "print(Joint.REVOLUTE)\n",
    "print(Joint.PRISMATIC)\n",
    "print(Joint.FIXED)"
   ]
  },
  {
   "cell_type": "markdown",
   "metadata": {
    "slideshow": {
     "slide_type": "slide"
    }
   },
   "source": [
    "## Configuration"
   ]
  },
  {
   "cell_type": "code",
   "execution_count": 9,
   "metadata": {
    "slideshow": {
     "slide_type": "-"
    }
   },
   "outputs": [],
   "source": [
    "\"\"\"Example: create robot configuration\n",
    "\"\"\"\n",
    "from math import pi\n",
    "from compas_fab.robots import Configuration\n",
    "\n",
    "values = [1.5, pi]\n",
    "types = [Joint.PRISMATIC, Joint.REVOLUTE]\n",
    "\n",
    "config = Configuration(values, types)\n",
    "config = Configuration.from_revolute_values([pi/2, 0., 0., pi/2, pi, 0])\n",
    "config = Configuration.from_prismatic_and_revolute_values([8.312], [pi/2, 0., 0., 0., 2*pi, 0.8])\n"
   ]
  },
  {
   "cell_type": "markdown",
   "metadata": {
    "slideshow": {
     "slide_type": "slide"
    }
   },
   "source": [
    "## Building your own robot"
   ]
  },
  {
   "cell_type": "code",
   "execution_count": 26,
   "metadata": {
    "slideshow": {
     "slide_type": "slide"
    }
   },
   "outputs": [],
   "source": [
    "import math\n",
    "from compas.geometry import Translation, Cylinder, Circle, Plane\n",
    "from compas.robots import RobotModel, Joint\n",
    "from compas_fab.robots import Configuration\n",
    "from compas.datastructures import Mesh\n",
    "from compas.geometry import Frame\n",
    "\n",
    "from viewer import RobotArtist\n",
    "from viewer import ThreeJsViewer\n",
    "\n",
    "# create cylinder in yz plane\n",
    "radius, length = 0.3, 5\n",
    "cylinder = Cylinder(Circle(Plane([0, 0, 0], [1, 0, 0]), radius), length)\n",
    "cylinder.transform(Translation([length / 2., 0, 0]))\n",
    "\n",
    "# create robot\n",
    "robot = RobotModel(\"robot\")\n",
    "\n",
    "# add first link to robot\n",
    "link0 = robot.add_link(\"world\")\n",
    "\n",
    "# add second link to robot\n",
    "mesh = Mesh.from_shape(cylinder)\n",
    "link1 = robot.add_link(\"link1\", visual_mesh=mesh, visual_color=(0.2, 0.5, 0.6))\n",
    "\n",
    "# add the joint between the links\n",
    "axis = (0, 0, 1)\n",
    "origin = Frame.worldXY()\n",
    "robot.add_joint(\"joint1\", Joint.CONTINUOUS, link0, link1, origin, axis)\n",
    "\n",
    "# add another link\n",
    "mesh = Mesh.from_shape(cylinder) # create a copy!\n",
    "link2 = robot.add_link(\"link2\", visual_mesh=mesh, visual_color=(0.5, 0.6, 0.2))\n",
    "\n",
    "# add another joint to 'glue' the link to the chain\n",
    "origin = Frame((length, 0, 0), (1, 0, 0), (0, 1, 0))\n",
    "robot.add_joint(\"joint2\", Joint.CONTINUOUS, link1, link2, origin, axis)\n",
    "\n",
    "artist = RobotArtist(robot)\n",
    "geo = artist.draw_visual()"
   ]
  },
  {
   "cell_type": "code",
   "execution_count": 27,
   "metadata": {
    "slideshow": {
     "slide_type": "slide"
    }
   },
   "outputs": [
    {
     "data": {
      "application/vnd.jupyter.widget-view+json": {
       "model_id": "2d7cecc4c2ba4b9d99654400037fdf50",
       "version_major": 2,
       "version_minor": 0
      },
      "text/plain": [
       "Renderer(camera=PerspectiveCamera(aspect=1.5, children=(DirectionalLight(intensity=0.5, position=(0.0, 0.0, 1.…"
      ]
     },
     "metadata": {},
     "output_type": "display_data"
    }
   ],
   "source": [
    "viewer = ThreeJsViewer()\n",
    "camera_position=[0.0, 10.0, 20.0]\n",
    "viewer.show(camera_position=camera_position, geometry=geo)"
   ]
  },
  {
   "cell_type": "markdown",
   "metadata": {
    "slideshow": {
     "slide_type": "slide"
    }
   },
   "source": [
    "### Assignment Task 2\n",
    "\n",
    "Build your own robot with a certain number of links and joints. Then create a `Configuration` with the correct joint types and values.\n",
    "Then use the `RobotArtist` to `update` the robot with this configuration, so that it configures into the letter of your choice.\n",
    "You can use the `RobotArtist` from `compas_fab.ghpython` or `compas_fab.rhino`.\n",
    "\n",
    "<div align=\"center\"><br><img src=\"images/assignment1_2.jpg\" width=\"600\" /></div>"
   ]
  },
  {
   "cell_type": "markdown",
   "metadata": {},
   "source": [
    "## Configuration space"
   ]
  },
  {
   "cell_type": "markdown",
   "metadata": {
    "slideshow": {
     "slide_type": "slide"
    }
   },
   "source": [
    "## Forward and inverse kinematics"
   ]
  },
  {
   "cell_type": "markdown",
   "metadata": {
    "slideshow": {
     "slide_type": "slide"
    }
   },
   "source": [
    "<img src=\"images/ik_fk.jpg\" style=\"height: 500px\" />"
   ]
  },
  {
   "cell_type": "markdown",
   "metadata": {
    "slideshow": {
     "slide_type": "slide"
    }
   },
   "source": [
    "### Forward kinematics\n",
    "\n",
    "The forward kinematics function calculates the pose of the robot’s end-effector from a configuration (configuration space to cartesian space).\n",
    "\n",
    "The simplest way to calculate forward kinematics is based on the properties defined by the robot model:"
   ]
  },
  {
   "cell_type": "code",
   "execution_count": 18,
   "metadata": {
    "slideshow": {
     "slide_type": "slide"
    }
   },
   "outputs": [
    {
     "name": "stdout",
     "output_type": "stream",
     "text": [
      "Frame in the robot's coordinate system\n",
      "Frame(Point(0.300, 0.100, 0.500), Vector(1.000, -0.000, -0.000), Vector(0.000, 1.000, -0.000))\n",
      "Frame in the world coordinate system\n",
      "Frame(Point(0.300, 0.100, 0.500), Vector(1.000, -0.000, -0.000), Vector(0.000, 1.000, -0.000))\n"
     ]
    }
   ],
   "source": [
    "from compas_fab.robots import Configuration\n",
    "from compas_fab.robots.ur5 import Robot\n",
    "\n",
    "robot = Robot(load_geometry=True)\n",
    "configuration = Configuration.from_revolute_values([-2.238, -1.153, -2.174, 0.185, 0.667, 0.])\n",
    "\n",
    "# Use forward kinematics of robot model\n",
    "frame_RCF = robot.forward_kinematics(configuration, backend='model')\n",
    "frame_WCF = robot.to_world_coords(frame_RCF)\n",
    "\n",
    "print(\"Frame in the robot's coordinate system\")\n",
    "print(frame_RCF)\n",
    "print(\"Frame in the world coordinate system\")\n",
    "print(frame_WCF)"
   ]
  },
  {
   "cell_type": "code",
   "execution_count": 19,
   "metadata": {
    "slideshow": {
     "slide_type": "slide"
    }
   },
   "outputs": [
    {
     "data": {
      "application/vnd.jupyter.widget-view+json": {
       "model_id": "73ffa2f067164e4f966ac40787f80c11",
       "version_major": 2,
       "version_minor": 0
      },
      "text/plain": [
       "Renderer(camera=PerspectiveCamera(aspect=1.5, children=(DirectionalLight(intensity=0.5, position=(0.0, 0.0, 1.…"
      ]
     },
     "metadata": {},
     "output_type": "display_data"
    }
   ],
   "source": [
    "from viewer import RobotArtist\n",
    "from viewer import ThreeJsViewer\n",
    "\n",
    "artist = RobotArtist(robot.model)\n",
    "robot.artist = artist\n",
    "robot.update(configuration)\n",
    "geo = robot.draw_visual()\n",
    "viewer = ThreeJsViewer()\n",
    "camera_position=[1.0, 1.0, 1.0]\n",
    "viewer.show(camera_position=camera_position, geometry=geo)"
   ]
  },
  {
   "cell_type": "markdown",
   "metadata": {
    "slideshow": {
     "slide_type": "slide"
    }
   },
   "source": [
    "## Question\n",
    "\n",
    "For robotic arms, `inverse` is the tricky operation, do you know for which kind of robots `forward` is the tricky one?"
   ]
  },
  {
   "cell_type": "markdown",
   "metadata": {
    "slideshow": {
     "slide_type": "slide"
    }
   },
   "source": [
    "## Backends : ROS\n",
    "\n",
    "in google slides.."
   ]
  },
  {
   "cell_type": "markdown",
   "metadata": {
    "slideshow": {
     "slide_type": "slide"
    }
   },
   "source": [
    "## Inverse kinematics"
   ]
  },
  {
   "cell_type": "code",
   "execution_count": null,
   "metadata": {},
   "outputs": [],
   "source": [
    "from compas.geometry import Frame\n",
    "from compas_fab.backends import RosClient\n",
    "from compas_fab.robots import Configuration\n",
    "\n",
    "frame = Frame([0.3, 0.1, 0.5], [1, 0, 0], [0, 1, 0])\n",
    "start_configuration = Configuration.from_revolute_values([0] * 6)\n",
    "group = \"manipulator\" # or robot.main_group_name\n",
    "\n",
    "with RosClient() as client:\n",
    "    robot.client = client\n",
    "    config = robot.inverse_kinematics(frame, start_configuration, group)\n",
    "\n",
    "print(config)\n",
    "\n",
    "frame_RCF = robot.forward_kinematics(config, backend=\"model\")\n",
    "frame_WCF = robot.represent_frame_in_WCF(frame_RCF)\n",
    "print(frame_WCF)"
   ]
  },
  {
   "cell_type": "markdown",
   "metadata": {},
   "source": [
    "<h1 style=\"background: #ffff00\">Gonzalo end</h1>"
   ]
  }
 ],
 "metadata": {
  "celltoolbar": "Slideshow",
  "kernelspec": {
   "display_name": "Python 3",
   "language": "python",
   "name": "python3"
  },
  "language_info": {
   "codemirror_mode": {
    "name": "ipython",
    "version": 3
   },
   "file_extension": ".py",
   "mimetype": "text/x-python",
   "name": "python",
   "nbconvert_exporter": "python",
   "pygments_lexer": "ipython3",
   "version": "3.6.7"
  },
  "rise": {
   "theme": "white"
  }
 },
 "nbformat": 4,
 "nbformat_minor": 2
}
