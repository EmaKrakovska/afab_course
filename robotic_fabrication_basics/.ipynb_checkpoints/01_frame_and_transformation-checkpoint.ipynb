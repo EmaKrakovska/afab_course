{
 "cells": [
  {
   "cell_type": "code",
   "execution_count": 16,
   "metadata": {
    "slideshow": {
     "slide_type": "skip"
    }
   },
   "outputs": [],
   "source": [
    "from notebook.services.config import ConfigManager\n",
    "cm = ConfigManager()\n",
    "\n",
    "#cm.update('livereveal', {'width': 1000, 'height': 600,'scroll': True,})\n",
    "cm.update('livereveal', {'scroll': True,})\n",
    "\n",
    "# %load_ext autoreload\n",
    "# %autoreload 2\n",
    "\n",
    "import sys\n",
    "# sys.path.append(r\"C:\\Users\\kathrind\\workspace\\projects\\teaching_materials\")\n",
    "sys.path.append(r\"C:\\Users\\parascho\\Documents\\git_repos\\teaching_material\")\n",
    "\n",
    "# import webcolors\n",
    "#print(webcolors.html4_names_to_hex)\n",
    "#webcolors.name_to_hex(name, spec='css3')"
   ]
  },
  {
   "cell_type": "markdown",
   "metadata": {
    "slideshow": {
     "slide_type": "slide"
    }
   },
   "source": [
    "# Frame and Transformation"
   ]
  },
  {
   "cell_type": "markdown",
   "metadata": {
    "slideshow": {
     "slide_type": "slide"
    }
   },
   "source": [
    "# Robot coordinate frames\n",
    "\n",
    "A robot's ability to reach out and grasp an object relies on defining the target in _reference_ or _coordinate frames_. \n",
    "The general problem we face is known as a geometric transformation between frames of reference, for example between the worlds origin (world coordinate frame, WCF) and the robot's origin (robot coordinate frame, RCF), or the robot's origin (RCF) and the object (object coordinate frame, OCF).\n",
    "\n",
    "<img src='images/robot_coordinate_frames.jpg' style='height:300px' />"
   ]
  },
  {
   "cell_type": "markdown",
   "metadata": {
    "slideshow": {
     "slide_type": "slide"
    }
   },
   "source": [
    "# Frame\n",
    "\n",
    "A _frame_ is defined by a base point and two orthonormal base vectors (xaxis, yaxis), which specify the normal (zaxis). \n",
    "It describes location and orientation in a (right-handed) cartesian coordinate system. In Rhino, _Planes_ are the equivalent to _frames_.\n",
    "\n",
    "<img src='images/frame.svg' style='height:300px' />"
   ]
  },
  {
   "cell_type": "code",
   "execution_count": 17,
   "metadata": {
    "slideshow": {
     "slide_type": "slide"
    }
   },
   "outputs": [
    {
     "name": "stdout",
     "output_type": "stream",
     "text": [
      "Frame(Point(0.000, 0.000, 0.000), Vector(1.000, 0.000, 0.000), Vector(0.000, 1.000, 0.000))\n"
     ]
    }
   ],
   "source": [
    "\"\"\"There are several ways to construst a `Frame`.\n",
    "\"\"\"\n",
    "from compas.geometry import Point\n",
    "from compas.geometry import Vector\n",
    "from compas.geometry import Frame\n",
    "from compas.geometry import Plane\n",
    "\n",
    "F = Frame(Point(1, 0, 0), Vector(-0.45, 0.1, 0.3), Vector(1, 0, 0))\n",
    "F = Frame([1, 0, 0], [-0.45, 0.1, 0.3], [1, 0, 0])\n",
    "F = Frame.from_points([1, 1, 1], [2, 3, 6], [6, 3, 0])\n",
    "F = Frame.from_plane(Plane([0, 0, 0], [0.5, 0.2, 0.1]))\n",
    "F = Frame.from_euler_angles([0.5, 1., 0.2])\n",
    "F = Frame.worldXY()\n",
    "\n",
    "print(F)"
   ]
  },
  {
   "cell_type": "markdown",
   "metadata": {
    "slideshow": {
     "slide_type": "slide"
    }
   },
   "source": [
    "### Frame as a cartesian coordinate system\n",
    "\n",
    "<img src='images/point_in_frame.svg' style='height:450px' />"
   ]
  },
  {
   "cell_type": "code",
   "execution_count": 18,
   "metadata": {
    "slideshow": {
     "slide_type": "slide"
    }
   },
   "outputs": [
    {
     "name": "stdout",
     "output_type": "stream",
     "text": [
      "Point(191.314, 164.389, 200.285)\n",
      "Point(35.000, 35.000, 35.000)\n"
     ]
    }
   ],
   "source": [
    "\"\"\"Example: 'point in frame'\n",
    "\"\"\"\n",
    "from compas.geometry import Point\n",
    "from compas.geometry import Vector\n",
    "from compas.geometry import Frame\n",
    "\n",
    "point = Point(147.00, 150.00, 161.50)\n",
    "xaxis = Vector(0.9767, 0.0010, -0.214)\n",
    "yaxis = Vector(0.1002, 0.8818, 0.4609)\n",
    "\n",
    "# coordinate system F\n",
    "F = Frame(point, xaxis, yaxis)\n",
    "\n",
    "# point in F (local coordinates)\n",
    "P = Point(35., 35., 35.)\n",
    "\n",
    "# point in global (world) coordinates\n",
    "P_ = F.represent_point_in_global_coordinates(P)\n",
    "print(P_)\n",
    "\n",
    "# check\n",
    "P2 = F.represent_point_in_local_coordinates(P_)\n",
    "print(P2)"
   ]
  },
  {
   "cell_type": "raw",
   "metadata": {
    "slideshow": {
     "slide_type": "notes"
    }
   },
   "source": [
    "The simple example above shows how to use a frame as a coordinate system: Starting from a point `P` in the local (user-defined, relative) coordinate system of frame `F`, i.e. its position is relative to the origin and orientation of `F`, we want to get the position `P_` of `P` in the global (world, absolute) coordinate system."
   ]
  },
  {
   "cell_type": "markdown",
   "metadata": {
    "slideshow": {
     "slide_type": "slide"
    }
   },
   "source": [
    "### Frame in frame\n",
    "\n",
    "<img src='images/frame_in_frame_point.svg' style='height:450px' />"
   ]
  },
  {
   "cell_type": "code",
   "execution_count": 19,
   "metadata": {
    "slideshow": {
     "slide_type": "slide"
    }
   },
   "outputs": [
    {
     "name": "stdout",
     "output_type": "stream",
     "text": [
      "Frame(Point(190.314, 164.389, 200.285), Vector(0.760, 0.063, 0.647), Vector(-0.526, 0.645, 0.554))\n",
      "Frame(Point(35.000, 35.000, 35.000), Vector(0.604, 0.430, 0.671), Vector(-0.631, 0.772, 0.074))\n",
      "True\n"
     ]
    }
   ],
   "source": [
    "\"\"\"Example: 'frame in frame'\n",
    "\"\"\"\n",
    "from compas.geometry import Point\n",
    "from compas.geometry import Vector\n",
    "from compas.geometry import Frame\n",
    "\n",
    "point = Point(146.00, 150.00, 161.50)\n",
    "xaxis = Vector(0.9767, 0.0010, -0.214)\n",
    "yaxis = Vector(0.1002, 0.8818, 0.4609)\n",
    "\n",
    "# coordinate system F\n",
    "F = Frame(point, xaxis, yaxis)\n",
    "\n",
    "# frame f in F (local coordinates)\n",
    "point = Point(35., 35., 35.)\n",
    "xaxis = Vector(0.604, 0.430, 0.671)\n",
    "yaxis = Vector(-0.631, 0.772, 0.074)\n",
    "f = Frame(point, xaxis, yaxis)\n",
    "\n",
    "# frame in global (world) coordinate system\n",
    "f_ = F.represent_frame_in_global_coordinates(f)\n",
    "print(f_)\n",
    "\n",
    "# check\n",
    "f2 = F.represent_frame_in_local_coordinates(f_)\n",
    "print(f2)\n",
    "print(f == f2)"
   ]
  },
  {
   "cell_type": "markdown",
   "metadata": {
    "slideshow": {
     "slide_type": "subslide"
    }
   },
   "source": [
    "### Example\n",
    "\n",
    "Bring a box from the world coordinate system into another coordinate system."
   ]
  },
  {
   "cell_type": "code",
   "execution_count": 20,
   "metadata": {
    "slideshow": {
     "slide_type": "slide"
    }
   },
   "outputs": [
    {
     "name": "stdout",
     "output_type": "stream",
     "text": [
      "Box frame transformed Frame(Point(2.978, 2.010, 1.790), Vector(-0.680, -0.105, 0.726), Vector(0.733, -0.132, 0.668))\n",
      "You can open the visualizer by visiting the following URL:\n",
      "http://127.0.0.1:7000/static/\n"
     ]
    },
    {
     "data": {
      "text/html": [
       "\n",
       "<div style=\"height: 400px; width: 600px; overflow-x: auto; overflow-y: hidden; resize: both\">\n",
       "<iframe src=\"http://127.0.0.1:7000/static/\" style=\"width: 100%; height: 100%; border: none\"></iframe>\n",
       "</div>\n"
      ],
      "text/plain": [
       "<IPython.core.display.HTML object>"
      ]
     },
     "execution_count": 20,
     "metadata": {},
     "output_type": "execute_result"
    }
   ],
   "source": [
    "\"\"\"Example: Bring a box from the world coordinate system into another coordinate system.\n",
    "\"\"\"\n",
    "from compas.geometry import Frame\n",
    "from compas.geometry import Transformation\n",
    "from compas.geometry import Box\n",
    "\n",
    "from robotic_fabrication_basics.viewer import MeshCatViewer\n",
    "\n",
    "# Box in the world coordinate system\n",
    "frame = Frame([1, 0, 0], [-0.45, 0.1, 0.3], [1, 0, 0])\n",
    "width, length, height = 1, 1, 1\n",
    "box = Box(frame, width, length, height)\n",
    "\n",
    "# Frame F representing a coordinate system\n",
    "F = Frame([2, 2, 2], [0.978, 0.010, -0.210], [0.090, 0.882, 0.463])\n",
    "\n",
    "# Represent box frame in frame F and costruct new box\n",
    "box_frame_transformed = F.represent_frame_in_global_coordinates(box.frame)\n",
    "box_transformed = Box(box_frame_transformed, width, length, height)\n",
    "print(\"Box frame transformed\", box_transformed.frame)\n",
    "\n",
    "# Option 2: Get transformation between frames and apply transformation on box.\n",
    "# T = Transformation.from_frame_to_frame(Frame.worldXY(), F)\n",
    "# box_transformed = box.transformed(T)\n",
    "\n",
    "viewer = MeshCatViewer()\n",
    "viewer.draw_frame(Frame.worldXY())\n",
    "viewer.draw_box(box)\n",
    "viewer.draw_frame(F)\n",
    "viewer.draw_box(box_transformed, color=0xff00ff)\n",
    "viewer.jupyter_cell()"
   ]
  },
  {
   "cell_type": "markdown",
   "metadata": {
    "slideshow": {
     "slide_type": "slide"
    }
   },
   "source": [
    "### Further information\n",
    "\n",
    "* https://en.wikipedia.org/wiki/Frame_of_reference\n",
    "* https://en.wikipedia.org/wiki/Cartesian_coordinate_system"
   ]
  },
  {
   "cell_type": "markdown",
   "metadata": {
    "slideshow": {
     "slide_type": "notes"
    }
   },
   "source": [
    "### Methods to implement\n",
    "\n",
    "* Frame.represent_vector_in_local_coordinates"
   ]
  },
  {
   "cell_type": "markdown",
   "metadata": {
    "slideshow": {
     "slide_type": "slide"
    }
   },
   "source": [
    "## Transformation\n",
    "\n",
    "The `Transformation` represents values in a 4x4 transformation matrix. \n",
    "It is used to describe affine transformations, such as \n",
    "`Rotation`, `Translation`, `Scale`, `Reflection`, `Projection` and `Shear`.\n",
    "\n",
    "<img src='images/transformations2D.svg' style='width:800px' />"
   ]
  },
  {
   "cell_type": "markdown",
   "metadata": {
    "slideshow": {
     "slide_type": "slide"
    }
   },
   "source": [
    "A transformation matrix looks like this:\n",
    "\n",
    "\\begin{equation*}\n",
    "\\mathbf{T} = \\begin{bmatrix}\n",
    "a_{11} & a_{12} & a_{13} & a_{14}\\\\\n",
    "a_{21} & a_{22} & a_{23} & a_{24}\\\\\n",
    "a_{31} & a_{32} & a_{33} & a_{34}\\\\\n",
    "a_{41} & a_{42} & a_{43} & a_{44}\\\\\n",
    "\\end{bmatrix}\n",
    "\\end{equation*}\n",
    "\n",
    "But for different transformations, different coefficients are used:\n",
    "\n",
    "The `Rotation` just uses the upper left 3x3 coefficients,\n",
    "\n",
    "\\begin{equation*}\n",
    "\\mathbf{T} = \\begin{bmatrix}\n",
    "a_{11} & a_{12} & a_{13} & 0\\\\\n",
    "a_{21} & a_{22} & a_{23} & 0\\\\\n",
    "a_{31} & a_{32} & a_{33} & 0\\\\\n",
    "0 & 0 & 0 & 1\\\\\n",
    "\\end{bmatrix}\n",
    "\\end{equation*}\n",
    "\n",
    "the `Translation` just uses the first 3 coefficients of the 4th column,\n",
    "\n",
    "\\begin{equation*}\n",
    "\\mathbf{T} = \\begin{bmatrix}\n",
    "1 & 0 & 0 & a_{14}\\\\\n",
    "0 & 1 & 0 & a_{24}\\\\\n",
    "0 & 0 & 1 & a_{34}\\\\\n",
    "0 & 0 & 0 & 1\\\\\n",
    "\\end{bmatrix}\n",
    "\\end{equation*}\n",
    "\n",
    "and `Scale` uses only the first 3 values of the diagonal.\n",
    "\n",
    "\\begin{equation*}\n",
    "\\mathbf{T} = \\begin{bmatrix}\n",
    "a_{11} & 0 & 0 & 0\\\\\n",
    "0 & a_{22} & 0 & 0\\\\\n",
    "0 & 0 & a_{33} & 0\\\\\n",
    "0 & 0 & 0 & 1\\\\\n",
    "\\end{bmatrix}\n",
    "\\end{equation*}"
   ]
  },
  {
   "cell_type": "code",
   "execution_count": 21,
   "metadata": {
    "slideshow": {
     "slide_type": "slide"
    }
   },
   "outputs": [
    {
     "name": "stdout",
     "output_type": "stream",
     "text": [
      "Rotation:\n",
      " [[    0.9638,   -0.0475,    0.2622,    0.0000],\n",
      " [    0.0815,    0.9894,   -0.1205,    0.0000],\n",
      " [   -0.2537,    0.1375,    0.9575,    0.0000],\n",
      " [    0.0000,    0.0000,    0.0000,    1.0000]]\n",
      "\n",
      "Translation:\n",
      " [[    1.0000,    0.0000,    0.0000,    5.0000],\n",
      " [    0.0000,    1.0000,    0.0000,    3.0000],\n",
      " [    0.0000,    0.0000,    1.0000,    1.0000],\n",
      " [    0.0000,    0.0000,    0.0000,    1.0000]]\n",
      "\n",
      "Scale:\n",
      " [[    0.1000,    0.0000,    0.0000,    0.0000],\n",
      " [    0.0000,    0.3000,    0.0000,    0.0000],\n",
      " [    0.0000,    0.0000,    0.4000,    0.0000],\n",
      " [    0.0000,    0.0000,    0.0000,    1.0000]]\n",
      "\n",
      "Reflection:\n",
      " [[    0.8364,   -0.0545,   -0.5455,    0.6055],\n",
      " [   -0.0545,    0.9818,   -0.1818,    0.2018],\n",
      " [   -0.5455,   -0.1818,   -0.8182,    2.0182],\n",
      " [    0.0000,    0.0000,    0.0000,    1.0000]]\n",
      "\n",
      "Perspective projection:\n",
      " [[    0.8364,   -0.0545,   -0.5455,    0.6055],\n",
      " [   -0.0545,    0.9818,   -0.1818,    0.2018],\n",
      " [   -0.5455,   -0.1818,   -0.8182,    2.0182],\n",
      " [    0.0000,    0.0000,    0.0000,    1.0000]]\n",
      "\n",
      "Shear:\n",
      " [[    0.9920,    0.0225,   -0.0123,   -0.0232],\n",
      " [   -0.0159,    1.0449,   -0.0246,   -0.0463],\n",
      " [   -0.0239,    0.0674,    0.9631,   -0.0695],\n",
      " [    0.0000,    0.0000,    0.0000,    1.0000]]\n",
      "\n"
     ]
    }
   ],
   "source": [
    "from compas.geometry import *\n",
    "\n",
    "axis, angle = [0.2, 0.4, 0.1], 0.3\n",
    "R = Rotation.from_axis_and_angle(axis, angle)\n",
    "print(\"Rotation:\\n\", R)\n",
    "\n",
    "translation_vector = [5, 3, 1]\n",
    "T = Translation(translation_vector)\n",
    "print(\"Translation:\\n\", T)\n",
    "\n",
    "scale_factors = [0.1, 0.3, 0.4]\n",
    "S = Scale(scale_factors)\n",
    "print(\"Scale:\\n\", S)\n",
    "\n",
    "point, normal = [0.3, 0.2, 1], [0.3, 0.1, 1]\n",
    "R = Reflection(point, normal) # TODO: should take a plane!!\n",
    "print(\"Reflection:\\n\", R)\n",
    "\n",
    "point, normal = [0, 0, 0], [0, 0, 1]\n",
    "perspective = [1, 1, 0]\n",
    "P = Projection.perspective(point, normal, perspective)\n",
    "print(\"Perspective projection:\\n\", R)\n",
    "\n",
    "angle, direction = 0.1, [0.1, 0.2, 0.3]\n",
    "point, normal = [4, 3, 1], [-0.11, 0.31, -0.17]\n",
    "S = Shear(angle, direction, point, normal)\n",
    "print(\"Shear:\\n\", S)\n"
   ]
  },
  {
   "cell_type": "markdown",
   "metadata": {
    "slideshow": {
     "slide_type": "slide"
    }
   },
   "source": [
    "### Concatenation and decomposition\n",
    "\n",
    "Concatenation of `Transformations` are simple matrix multiplications.\n",
    "But matrices are not commutative ($\\mathbf{A}\\times\\mathbf{B} != \\mathbf{B}\\times\\mathbf{A}$), so it is important to consider of the order of multiplication.\n",
    "\n",
    "If you transform an object first with transformation $\\mathbf{A}$, then with transformation $\\mathbf{B}$, \n",
    "followed by transformation $\\mathbf{C}$,\n",
    "it is the same as transforming the object with only one transformation $\\mathbf{M}$ which is calculated by \n",
    "$\\mathbf{M}=\\mathbf{A}\\times\\mathbf{B}\\times\\mathbf{C}$.\n",
    "(Transformations applied from left to right.)\n",
    "\n",
    "*NOTE*: This is important to keep in mind if you want to apply several transformations on a big mesh: \n",
    "it is faster concatenate transformations first and then apply only one transformation to mesh."
   ]
  },
  {
   "cell_type": "code",
   "execution_count": 22,
   "metadata": {
    "slideshow": {
     "slide_type": "slide"
    }
   },
   "outputs": [
    {
     "name": "stdout",
     "output_type": "stream",
     "text": [
      "True\n",
      "True\n",
      "True\n"
     ]
    }
   ],
   "source": [
    "\"\"\"Example: concatenation\n",
    "\"\"\"\n",
    "translation = [1, 2, 3]\n",
    "A = Translation(translation)\n",
    "axis, angle = [-0.8, 0.35, 0.5], 2.2\n",
    "B = Rotation.from_axis_and_angle(axis, angle)\n",
    "scale_factors = [0.1, 0.3, 0.4]\n",
    "C = Scale(scale_factors)\n",
    "\n",
    "# Concatenate transformations: apply transformations from left to right\n",
    "M = A * B * C\n",
    "\n",
    "# A matrix can also be decomposed into it's components of Scale, Shear, Rotation, Translation and Perspective\n",
    "Sc, Sh, R, T, P = M.decompose()\n",
    "# Check\n",
    "print(C == Sc)\n",
    "print(B == R)\n",
    "print(A == T)"
   ]
  },
  {
   "cell_type": "markdown",
   "metadata": {
    "slideshow": {
     "slide_type": "skip"
    }
   },
   "source": [
    "### Homogenisation\n",
    "\n",
    "A transformation matrix is 4x4, but vectors and points are 3x1, so how can they be multiplied?\n",
    "\n",
    "Points:\n",
    "\\begin{equation*}\n",
    "\\begin{bmatrix}x'\\\\y'\\\\z'\\\\1\\end{bmatrix} = \n",
    "\\begin{bmatrix}\n",
    "a_{11} & a_{12} & a_{13} & a_{14}\\\\\n",
    "a_{21} & a_{22} & a_{23} & a_{24}\\\\\n",
    "a_{31} & a_{32} & a_{33} & a_{34}\\\\\n",
    "a_{41} & a_{42} & a_{43} & a_{44}\\\\\n",
    "\\end{bmatrix}\n",
    "\\times\n",
    "\\begin{bmatrix}x\\\\y\\\\z\\\\1\\end{bmatrix}\n",
    "\\end{equation*}\n",
    "\n",
    "Vectors:\n",
    "\\begin{equation*}\n",
    "\\begin{bmatrix}x'\\\\y'\\\\z'\\\\0\\end{bmatrix} = \n",
    "\\begin{bmatrix}\n",
    "a_{11} & a_{12} & a_{13} & a_{14}\\\\\n",
    "a_{21} & a_{22} & a_{23} & a_{24}\\\\\n",
    "a_{31} & a_{32} & a_{33} & a_{34}\\\\\n",
    "a_{41} & a_{42} & a_{43} & a_{44}\\\\\n",
    "\\end{bmatrix}\n",
    "\\times\n",
    "\\begin{bmatrix}x\\\\y\\\\z\\\\0\\end{bmatrix}\n",
    "\\end{equation*}"
   ]
  },
  {
   "cell_type": "markdown",
   "metadata": {
    "slideshow": {
     "slide_type": "slide"
    }
   },
   "source": [
    "## Frame and Transformation\n",
    "\n",
    "<img src='images/frame_transformation.svg' style='height:450px' />"
   ]
  },
  {
   "cell_type": "code",
   "execution_count": 23,
   "metadata": {
    "slideshow": {
     "slide_type": "slide"
    }
   },
   "outputs": [],
   "source": [
    "\"\"\"This example computes a change of basis transformation between two frames F1 and F2.\n",
    "A basis change is essentially a remapping of geometry from one coordinate system to another.\n",
    "\"\"\"\n",
    "from compas.geometry import Frame\n",
    "from compas.geometry import Transformation\n",
    "\n",
    "F1 = Frame([2, 2, 2], [0.12, 0.58, 0.81], [-0.80, 0.53, -0.26])\n",
    "F2 = Frame([1, 1, 1], [0.68, 0.68, 0.27], [-0.67, 0.73, -0.15])\n",
    "\n",
    "T = Transformation.from_frame_to_frame(F1, F2)"
   ]
  },
  {
   "cell_type": "code",
   "execution_count": 24,
   "metadata": {
    "slideshow": {
     "slide_type": "slide"
    }
   },
   "outputs": [
    {
     "name": "stdout",
     "output_type": "stream",
     "text": [
      "Box frame transformed Frame(Point(2.978, 2.010, 1.790), Vector(-0.680, -0.105, 0.726), Vector(0.733, -0.132, 0.668))\n",
      "You can open the visualizer by visiting the following URL:\n",
      "http://127.0.0.1:7001/static/\n"
     ]
    },
    {
     "data": {
      "text/html": [
       "\n",
       "<div style=\"height: 400px; width: 600px; overflow-x: auto; overflow-y: hidden; resize: both\">\n",
       "<iframe src=\"http://127.0.0.1:7001/static/\" style=\"width: 100%; height: 100%; border: none\"></iframe>\n",
       "</div>\n"
      ],
      "text/plain": [
       "<IPython.core.display.HTML object>"
      ]
     },
     "execution_count": 24,
     "metadata": {},
     "output_type": "execute_result"
    }
   ],
   "source": [
    "\"\"\"Example: Bring a box from the world coordinate system into another coordinate system.\n",
    "\"\"\"\n",
    "from compas.geometry import Frame\n",
    "from compas.geometry import Transformation\n",
    "from compas.geometry import Box\n",
    "\n",
    "from robotic_fabrication_basics.viewer import MeshCatViewer\n",
    "\n",
    "# Box in the world coordinate system\n",
    "frame = Frame([1, 0, 0], [-0.45, 0.1, 0.3], [1, 0, 0])\n",
    "width, length, height = 1, 1, 1\n",
    "box = Box(frame, width, length, height)\n",
    "\n",
    "# Frame F representing a coordinate system\n",
    "F = Frame([2, 2, 2], [0.978, 0.010, -0.210], [0.090, 0.882, 0.463])\n",
    "\n",
    "# Get transformation between frames and apply transformation on box.\n",
    "T = Transformation.from_frame_to_frame(Frame.worldXY(), F)\n",
    "box_transformed = box.transformed(T)\n",
    "print(\"Box frame transformed\", box_transformed.frame)\n",
    "\n",
    "viewer = MeshCatViewer()\n",
    "viewer.draw_frame(Frame.worldXY())\n",
    "viewer.draw_box(box)\n",
    "viewer.draw_frame(F)\n",
    "viewer.draw_box(box_transformed, color=0x00aaff)\n",
    "viewer.jupyter_cell()"
   ]
  },
  {
   "cell_type": "markdown",
   "metadata": {
    "slideshow": {
     "slide_type": "slide"
    }
   },
   "source": [
    "## Difference transform() and transformed()\n",
    "The difference of the method transform() to the method transformed() is that transform() operates on the frame object itself and transforms the frame (= the value of the frame changes), while transformed() returns a deep copy of the frame with transformed values, but keeps the original frame unchanged.\n"
   ]
  },
  {
   "cell_type": "code",
   "execution_count": 25,
   "metadata": {
    "slideshow": {
     "slide_type": "slide"
    }
   },
   "outputs": [
    {
     "name": "stdout",
     "output_type": "stream",
     "text": [
      "frame:  Frame(Point(1.000, 0.000, 0.000), Vector(-0.818, 0.182, 0.545), Vector(0.575, 0.259, 0.776))\n",
      " \n",
      "frame_original:  Frame(Point(1.000, 0.000, 0.000), Vector(-0.818, 0.182, 0.545), Vector(0.575, 0.259, 0.776))\n",
      "frame_transformed:  Frame(Point(2.978, 2.010, 1.790), Vector(-0.680, -0.105, 0.726), Vector(0.733, -0.132, 0.668))\n",
      "frame_original:  Frame(Point(2.978, 2.010, 1.790), Vector(-0.680, -0.105, 0.726), Vector(0.733, -0.132, 0.668))\n",
      "frame_transformed:  Frame(Point(2.978, 2.010, 1.790), Vector(-0.680, -0.105, 0.726), Vector(0.733, -0.132, 0.668))\n"
     ]
    }
   ],
   "source": [
    "from compas.geometry import Frame\n",
    "\n",
    "# Coordinate frame\n",
    "frame = Frame([1, 0, 0], [-0.45, 0.1, 0.3], [1, 0, 0])\n",
    "\n",
    "# Frame F representing a coordinate system\n",
    "F = Frame([2, 2, 2], [0.978, 0.010, -0.210], [0.090, 0.882, 0.463])\n",
    "\n",
    "# Get transformation between frames and apply transformation on box.\n",
    "T = Transformation.from_frame_to_frame(Frame.worldXY(), F)\n",
    "\n",
    "print (\"frame: \", frame)\n",
    "print (\" \")\n",
    "\n",
    "# return a frame that is transformed with the transformation T\n",
    "frame_transformed = frame.transformed(T)\n",
    "\n",
    "print (\"frame_original: \", frame)\n",
    "print (\"frame_transformed: \", frame_transformed)\n",
    "\n",
    "# transform the frame itself with the transformation T\n",
    "frame.transform(T)\n",
    "print (\"frame_original: \", frame)\n",
    "print (\"frame_transformed: \", frame_transformed)\n"
   ]
  },
  {
   "cell_type": "markdown",
   "metadata": {
    "slideshow": {
     "slide_type": "slide"
    }
   },
   "source": [
    "## Rotation and orientation\n",
    "\n",
    "Example: Euler Angles\n",
    "<img src='https://upload.wikimedia.org/wikipedia/commons/thumb/8/82/Euler.png/543px-Euler.png' style='height:300px' />\n",
    "\n"
   ]
  },
  {
   "cell_type": "markdown",
   "metadata": {
    "slideshow": {
     "slide_type": "slide"
    }
   },
   "source": [
    "### Conventions for the representation of a rotation \n",
    "There are many different ways how to encode or represent the rotation matrix (3x3 matrix) in vector format (which is shorter).\n",
    "Different robot manufacturers use different conventions to represent the rotation/orientation of a coordinate frame. Therefore, the class `Rotation` contains methods for converting rotation matrices to axis-angle representations, Euler angles, quaternion and basis vectors."
   ]
  },
  {
   "cell_type": "markdown",
   "metadata": {
    "slideshow": {
     "slide_type": "slide"
    }
   },
   "source": [
    "### Basis vectors"
   ]
  },
  {
   "cell_type": "markdown",
   "metadata": {
    "slideshow": {
     "slide_type": "slide"
    }
   },
   "source": [
    "### Basic rotation\n",
    "A basic rotation is a rotation about one of the axes of a coordinate system.\n",
    "\n",
    "The following rotation matrix rotates coordinates by an angle $\\theta$ about the x-axis using the right-hand rule.\n",
    "\n",
    "\\begin{equation*}\n",
    "R_x(\\theta) = \\begin{bmatrix}\n",
    "1 & 0 & 0 & \\\\\n",
    "0 & \\cos\\theta & -\\sin\\theta\\\\\n",
    "0 & \\sin\\theta & \\cos\\theta\\\\\n",
    "\\end{bmatrix}\n",
    "\\end{equation*}"
   ]
  },
  {
   "cell_type": "markdown",
   "metadata": {
    "slideshow": {
     "slide_type": "slide"
    }
   },
   "source": [
    "Similarly, rotation matrices by angle $\\theta$ about the y-axis and the z-axis:\n",
    "\n",
    "\\begin{equation*}\n",
    "R_y(\\theta) = \\begin{bmatrix}\n",
    "\\cos\\theta & 0 & \\sin\\theta & \\\\\n",
    "0 & 1 & 0\\\\\n",
    "-\\sin\\theta & 0 & \\cos\\theta\\\\\n",
    "\\end{bmatrix}\n",
    "\\end{equation*}\n",
    "\n",
    "\\begin{equation*}\n",
    "R_z(\\theta) = \\begin{bmatrix}\n",
    "\\cos\\theta & -\\sin\\theta & 0\\\\\n",
    "\\sin\\theta & \\cos\\theta & 0\\\\\n",
    "0 & 1 & 0\\\\\n",
    "\\end{bmatrix}\n",
    "\\end{equation*}\n"
   ]
  },
  {
   "cell_type": "markdown",
   "metadata": {
    "slideshow": {
     "slide_type": "slide"
    }
   },
   "source": [
    "### Euler angles\n",
    "\n",
    "The Euler angles are three angles introduced by Leonhard Euler to describe the orientation of a rigid body with respect to a fixed coordinate system. Depending on the convention, it describes the individual rotations around a certain sequence of the axes, extrinsically around the unrotated axes of the fixed coordinate frame (e.g., z-y-z), or intrinsically, around the rotated axes (e.g., z-y'-z''). \n",
    "\n",
    "e.g., used by Kuka robots."
   ]
  },
  {
   "cell_type": "code",
   "execution_count": 26,
   "metadata": {
    "slideshow": {
     "slide_type": "slide"
    }
   },
   "outputs": [
    {
     "name": "stdout",
     "output_type": "stream",
     "text": [
      "True\n",
      "You can open the visualizer by visiting the following URL:\n",
      "http://127.0.0.1:7002/static/\n"
     ]
    },
    {
     "data": {
      "text/html": [
       "\n",
       "<div style=\"height: 400px; width: 600px; overflow-x: auto; overflow-y: hidden; resize: both\">\n",
       "<iframe src=\"http://127.0.0.1:7002/static/\" style=\"width: 100%; height: 100%; border: none\"></iframe>\n",
       "</div>\n"
      ],
      "text/plain": [
       "<IPython.core.display.HTML object>"
      ]
     },
     "execution_count": 26,
     "metadata": {},
     "output_type": "execute_result"
    }
   ],
   "source": [
    "\"\"\"Example: Rotations from euler angles, rotate an object based on 3 euler angles.\n",
    "\"\"\"\n",
    "\n",
    "import compas\n",
    "from compas.geometry import Frame\n",
    "from compas.geometry import Rotation\n",
    "from compas.datastructures import Mesh\n",
    "from compas.datastructures import mesh_transform\n",
    "\n",
    "# euler angles\n",
    "alpha, beta, gamma = -0.156, -0.274, 0.785\n",
    "static, axes = True, 'xyz'\n",
    "\n",
    "# Version 1: Create Rotation from angles\n",
    "R1 = Rotation.from_euler_angles([alpha, beta, gamma], static, axes)\n",
    "\n",
    "# Version 2: Concatenate 3 Rotations\n",
    "xaxis, yaxis, zaxis = [1, 0, 0], [0, 1, 0], [0, 0, 1]\n",
    "Rx = Rotation.from_axis_and_angle(xaxis, alpha)\n",
    "Ry = Rotation.from_axis_and_angle(yaxis, beta)\n",
    "Rz = Rotation.from_axis_and_angle(zaxis, gamma)\n",
    " \n",
    "if static: # check order!\n",
    "    R2 = Rz * Ry * Rx\n",
    "else:\n",
    "    R2 = Rx * Ry * Rz\n",
    "\n",
    "# Check\n",
    "print(R1 == R2)\n",
    "\n",
    "# Transform box\n",
    "box = Box.from_width_height_depth(1, 1, 1)\n",
    "box.transform(R1)\n",
    "\n",
    "viewer = MeshCatViewer()\n",
    "viewer.draw_box(box, color=0xaa00ff)\n",
    "viewer.jupyter_cell()"
   ]
  },
  {
   "cell_type": "markdown",
   "metadata": {},
   "source": [
    "### Axis-angle representation\n",
    "\n",
    "e.g., used by UR robots."
   ]
  },
  {
   "cell_type": "code",
   "execution_count": 27,
   "metadata": {
    "slideshow": {
     "slide_type": "slide"
    }
   },
   "outputs": [
    {
     "name": "stdout",
     "output_type": "stream",
     "text": [
      "[[    1.0000,    0.0000,    0.0000,    0.0000],\n",
      " [    0.0000,    0.8660,   -0.5000,    0.0000],\n",
      " [    0.0000,    0.5000,    0.8660,    0.0000],\n",
      " [    0.0000,    0.0000,    0.0000,    1.0000]]\n",
      "\n"
     ]
    }
   ],
   "source": [
    "\"\"\"Example: Rotations from axis angle representation, rotate an object based on 3 euler angles.\n",
    "\"\"\"\n",
    "\n",
    "import math\n",
    "from compas.geometry import Frame\n",
    "from compas.geometry import Rotation\n",
    "\n",
    "theta = math.radians(30)\n",
    "R = Rotation.from_axis_and_angle((1,0,0), theta)\n",
    "print(R)\n",
    "\n",
    "f1 = Frame([0, 0, 0], [0.68, 0.68, 0.27], [-0.67, 0.73, -0.15])\n",
    "R = Rotation.from_frame(f1)\n",
    "args = False, 'xyz'\n",
    "alpha, beta, gamma = R.euler_angles(*args)\n",
    "xaxis, yaxis, zaxis = [1, 0, 0], [0, 1, 0], [0, 0, 1]\n",
    "Rx = Rotation.from_axis_and_angle(xaxis, alpha)\n",
    "Ry = Rotation.from_axis_and_angle(yaxis, beta)\n",
    "Rz = Rotation.from_axis_and_angle(zaxis, gamma)\n",
    "f2 = Frame.worldXY()\n",
    "#f1 == f2.transform(Rx * Ry * Rz)\n"
   ]
  },
  {
   "cell_type": "markdown",
   "metadata": {
    "slideshow": {
     "slide_type": "slide"
    }
   },
   "source": [
    "### Quaternion\n",
    "\n",
    "e.g., used by ABB robots.\n"
   ]
  },
  {
   "cell_type": "code",
   "execution_count": 28,
   "metadata": {
    "slideshow": {
     "slide_type": "slide"
    }
   },
   "outputs": [
    {
     "name": "stdout",
     "output_type": "stream",
     "text": [
      "[0.7853252073134178, 0.5774003396942752, 0.22332300929163754]\n",
      "[-0.5669097811969227, 0.8156659006893796, -0.11533619742231993]\n",
      "[0.9445750368286366, -0.020990556373969713, -0.12494378794029588, 0.3028637419672772]\n",
      "quaternion_a == [0.945, -0.021, -0.125, 0.303]\n"
     ]
    }
   ],
   "source": [
    "\"\"\"Example: Rotations from quaternion representation.\n",
    "\"\"\"\n",
    "\n",
    "import math\n",
    "from compas.geometry import Frame\n",
    "from compas.geometry import Rotation\n",
    "\n",
    "# Quaternion input for the Rotation matrix\n",
    "quaternion_a = [0.945, -0.021, -0.125, 0.303]\n",
    "R = Rotation.from_quaternion(quaternion_a)\n",
    "\n",
    "# The basis vectors from the Rotation matrix\n",
    "xaxis, yaxis = R.basis_vectors\n",
    "print(xaxis)\n",
    "print(yaxis)\n",
    "\n",
    "# A frame created with the basis vectors of \n",
    "f1 = Frame([0,0,0], xaxis, yaxis)\n",
    "R = Rotation.from_frame(f1)\n",
    "\n",
    "quaternion_b = R.quaternion\n",
    "print(quaternion_b)\n",
    "\n",
    "print(\"quaternion_a ==\", [round(val, 3) for val in quaternion_b])"
   ]
  },
  {
   "cell_type": "markdown",
   "metadata": {
    "slideshow": {
     "slide_type": "slide"
    }
   },
   "source": [
    "### Projection matrix"
   ]
  },
  {
   "cell_type": "code",
   "execution_count": 31,
   "metadata": {
    "slideshow": {
     "slide_type": "slide"
    }
   },
   "outputs": [
    {
     "name": "stdout",
     "output_type": "stream",
     "text": [
      "You can open the visualizer by visiting the following URL:\n",
      "http://127.0.0.1:7004/static/\n"
     ]
    },
    {
     "data": {
      "text/html": [
       "\n",
       "<div style=\"height: 400px; width: 600px; overflow-x: auto; overflow-y: hidden; resize: both\">\n",
       "<iframe src=\"http://127.0.0.1:7004/static/\" style=\"width: 100%; height: 100%; border: none\"></iframe>\n",
       "</div>\n"
      ],
      "text/plain": [
       "<IPython.core.display.HTML object>"
      ]
     },
     "execution_count": 31,
     "metadata": {},
     "output_type": "execute_result"
    }
   ],
   "source": [
    "\"\"\"Example: Project the points of a box onto the xy-plane.\n",
    "\"\"\"\n",
    "\n",
    "from compas.geometry import Frame\n",
    "from compas.geometry import Projection\n",
    "from compas.geometry import transform_points\n",
    "from compas.geometry import Box\n",
    "\n",
    "from compas.datastructures import Mesh\n",
    "\n",
    "# create a box\n",
    "frame = Frame([0, 0, 20], [-0.47, 0.85, -0.24], [-0.75, -0.53, -0.39])\n",
    "box = Box(frame, 10, 10, 10)\n",
    "\n",
    "# try different projections\n",
    "point, normal = [0, 0, 0], [0, 0, 1] # projection plane is xy plane\n",
    "# project orthogonal onto the plane\n",
    "P = Projection.orthogonal(point, normal)\n",
    "# project parallel with a certain direction\n",
    "P = Projection.parallel(point, normal, [-0.5, 0.1, -0.7])\n",
    "# project perspective from a certain view point\n",
    "P = Projection.perspective(point, normal, [6, -10, 60])\n",
    "\n",
    "# Perform the transformation onto the box' vertices \n",
    "pts = transform_points(box.vertices, P)\n",
    "    \n",
    "viewer = MeshCatViewer()\n",
    "viewer.draw_box(box)\n",
    "# draw edges between the projected points\n",
    "mesh = Mesh.from_vertices_and_faces(pts, box.faces)\n",
    "viewer.draw_mesh_edges(mesh, color=0xaa00ff)\n",
    "viewer.jupyter_cell()"
   ]
  },
  {
   "cell_type": "markdown",
   "metadata": {},
   "source": [
    "### Further information\n",
    "\n",
    "* https://en.wikipedia.org/wiki/Transformation_matrix\n",
    "* https://en.wikipedia.org/wiki/Euler_angles\n",
    "* https://en.wikipedia.org/wiki/Axis%E2%80%93angle_representation\n",
    "* https://en.wikipedia.org/wiki/Quaternion"
   ]
  },
  {
   "cell_type": "markdown",
   "metadata": {},
   "source": [
    "##### "
   ]
  }
 ],
 "metadata": {
  "celltoolbar": "Slideshow",
  "kernelspec": {
   "display_name": "Python 3",
   "language": "python",
   "name": "python3"
  },
  "language_info": {
   "codemirror_mode": {
    "name": "ipython",
    "version": 3
   },
   "file_extension": ".py",
   "mimetype": "text/x-python",
   "name": "python",
   "nbconvert_exporter": "python",
   "pygments_lexer": "ipython3",
   "version": "3.6.6"
  }
 },
 "nbformat": 4,
 "nbformat_minor": 2
}
