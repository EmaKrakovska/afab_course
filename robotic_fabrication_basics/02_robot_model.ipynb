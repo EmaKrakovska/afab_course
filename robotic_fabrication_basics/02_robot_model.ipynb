{
 "cells": [
  {
   "cell_type": "markdown",
   "metadata": {},
   "source": [
    "# Robot Model"
   ]
  },
  {
   "cell_type": "markdown",
   "metadata": {},
   "source": [
    "## Robot coordinate frames\n",
    "Robot and Coordinate Systems : <br>\n",
    "Robot Coordinate system RCF <br>\n",
    "World Coordinate System WCF <br>\n",
    "Object Coordinate System OCF <br>\n",
    "Tool Coordinate System TCF <br>\n",
    "\n",
    "![transformation](images/robot_coordinate_frames.jpg)"
   ]
  },
  {
   "cell_type": "markdown",
   "metadata": {},
   "source": [
    "## Robot model (links and joints)\n",
    "* Kinematic chain: links and joints (consists of frame and axis)\n",
    "\n",
    "![transformation](images/robot_links_and_joints.jpg)"
   ]
  },
  {
   "cell_type": "markdown",
   "metadata": {},
   "source": [
    "## Forward and inverse kinematics\n",
    "* Forward kinemtics \n",
    "* Inverse Kinematics\n",
    "\n",
    "![transformation](images/robot_forward_and_inverse_kinematics.jpg)"
   ]
  },
  {
   "cell_type": "markdown",
   "metadata": {},
   "source": [
    "## Workspace and calibration (end effector, work object)\n",
    "\n",
    "* Robot reach\n",
    "* Measuring in the end effector of a robot arm\n",
    "* Measuring in the workobjects with the robot arm and a measurement tip"
   ]
  },
  {
   "cell_type": "code",
   "execution_count": null,
   "metadata": {},
   "outputs": [],
   "source": []
  }
 ],
 "metadata": {
  "kernelspec": {
   "display_name": "Python 3",
   "language": "python",
   "name": "python3"
  },
  "language_info": {
   "codemirror_mode": {
    "name": "ipython",
    "version": 3
   },
   "file_extension": ".py",
   "mimetype": "text/x-python",
   "name": "python",
   "nbconvert_exporter": "python",
   "pygments_lexer": "ipython3",
   "version": "3.6.5"
  }
 },
 "nbformat": 4,
 "nbformat_minor": 2
}
