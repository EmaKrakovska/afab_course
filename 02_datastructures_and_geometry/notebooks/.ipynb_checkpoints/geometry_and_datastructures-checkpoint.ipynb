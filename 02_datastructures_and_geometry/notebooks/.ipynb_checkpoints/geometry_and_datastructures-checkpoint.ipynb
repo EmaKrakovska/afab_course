{
 "cells": [
  {
   "cell_type": "code",
   "execution_count": 50,
   "metadata": {
    "slideshow": {
     "slide_type": "skip"
    }
   },
   "outputs": [],
   "source": [
    "from notebook.services.config import ConfigManager\n",
    "cm = ConfigManager()\n",
    "cm.update('livereveal', {'scroll': True,})\n",
    "\n",
    "%load_ext autoreload\n",
    "%autoreload 2\n",
    "\n",
    "import os\n",
    "import sys\n",
    "sys.path.append(os.path.abspath(\".\"))"
   ]
  },
  {
   "cell_type": "code",
   "execution_count": 51,
   "metadata": {
    "slideshow": {
     "slide_type": "skip"
    }
   },
   "outputs": [
    {
     "data": {
      "text/html": [
       "<style>\n",
       "body.rise-enabled div.code_cell{\n",
       "    font-size:80%;\n",
       "}\n",
       "\n",
       "body.rise-enabled div.inner_cell>div.promt_container{\n",
       "    width:10%;\n",
       "}\n",
       "\n",
       "body.rise-enabled div.inner_cell>div.text_cell_render.rendered_html {\n",
       "    font-size: 50%;\n",
       "}\n",
       "</style>\n"
      ],
      "text/plain": [
       "<IPython.core.display.HTML object>"
      ]
     },
     "metadata": {},
     "output_type": "display_data"
    }
   ],
   "source": [
    "%%html\n",
    "<style>\n",
    "body.rise-enabled div.code_cell{\n",
    "    font-size:80%;\n",
    "}\n",
    "\n",
    "body.rise-enabled div.inner_cell>div.promt_container{\n",
    "    width:10%;\n",
    "}\n",
    "\n",
    "body.rise-enabled div.inner_cell>div.text_cell_render.rendered_html {\n",
    "    font-size: 50%;\n",
    "}\n",
    "</style>"
   ]
  },
  {
   "cell_type": "markdown",
   "metadata": {
    "slideshow": {
     "slide_type": "slide"
    }
   },
   "source": [
    "# Geometry"
   ]
  },
  {
   "cell_type": "markdown",
   "metadata": {
    "slideshow": {
     "slide_type": "slide"
    }
   },
   "source": [
    "The geometry kernel of COMPAS provides many functions, such as for example:"
   ]
  },
  {
   "cell_type": "code",
   "execution_count": 52,
   "metadata": {
    "slideshow": {
     "slide_type": "subslide"
    }
   },
   "outputs": [],
   "source": [
    "from compas.geometry import area_polygon\n",
    "from compas.geometry import centroid_polygon\n",
    "from compas.geometry import centroid_polyhedron\n",
    "from compas.geometry import circle_from_points\n",
    "from compas.geometry import convex_hull\n",
    "from compas.geometry import decompose_matrix\n",
    "from compas.geometry import distance_point_line\n",
    "from compas.geometry import distance_line_line\n",
    "from compas.geometry import intersection_line_line\n",
    "from compas.geometry import intersection_line_triangle\n",
    "from compas.geometry import intersection_plane_plane\n",
    "from compas.geometry import is_coplanar\n",
    "from compas.geometry import is_point_in_triangle\n",
    "from compas.geometry import matrix_from_basis_vectors\n",
    "from compas.geometry import normal_polygon\n",
    "from compas.geometry import normal_triangle\n",
    "from compas.geometry import offset_line\n",
    "from compas.geometry import orient_points\n",
    "from compas.geometry import plane_from_points\n",
    "from compas.geometry import reflect_line_triangle\n",
    "from compas.geometry import volume_polyhedron"
   ]
  },
  {
   "cell_type": "markdown",
   "metadata": {
    "slideshow": {
     "slide_type": "slide"
    }
   },
   "source": [
    "Example: cross product"
   ]
  },
  {
   "attachments": {},
   "cell_type": "markdown",
   "metadata": {
    "slideshow": {
     "slide_type": "subslide"
    }
   },
   "source": [
    "The cross product of two vectors is the normal vector of these two.\n",
    "\n",
    "<img src=\"images/vector_cross.jpg\" alt=\"drawing\" width=\"300\"/>"
   ]
  },
  {
   "cell_type": "markdown",
   "metadata": {
    "slideshow": {
     "slide_type": "slide"
    }
   },
   "source": [
    "There are different ways of using COMPAS functionalities, either via using its functions only:"
   ]
  },
  {
   "cell_type": "code",
   "execution_count": 53,
   "metadata": {
    "slideshow": {
     "slide_type": "-"
    }
   },
   "outputs": [
    {
     "name": "stdout",
     "output_type": "stream",
     "text": [
      "[0.0, 0.0, 1.0]\n",
      "[0.0, 0.0, -1.0]\n"
     ]
    }
   ],
   "source": [
    "from compas.geometry import cross_vectors\n",
    "\n",
    "u = [1.0, 0.0, 0.0]\n",
    "v = [0.0, 1.0, 0.0]\n",
    "\n",
    "uxv = cross_vectors(u, v)\n",
    "vxu = cross_vectors(v, u)\n",
    "\n",
    "print(uxv)\n",
    "print(vxu)\n"
   ]
  },
  {
   "cell_type": "code",
   "execution_count": 54,
   "metadata": {},
   "outputs": [
    {
     "name": "stdout",
     "output_type": "stream",
     "text": [
      "1.5707963267948966\n",
      "1.5707963267948966\n"
     ]
    }
   ],
   "source": [
    "from compas.geometry import cross_vectors\n",
    "from compas.geometry import angle_vectors\n",
    "\n",
    "u = [1.0, 0.0, 0.0]\n",
    "v = [0.0, 1.0, 0.0]\n",
    "\n",
    "uxv = cross_vectors(u, v)\n",
    "u_uxv = angle_vectors(u, uxv)\n",
    "v_uxv = angle_vectors(v, uxv)\n",
    "\n",
    "print(u_uxv)\n",
    "print(v_uxv)"
   ]
  },
  {
   "cell_type": "markdown",
   "metadata": {
    "slideshow": {
     "slide_type": "slide"
    }
   },
   "source": [
    "or by using its classes:"
   ]
  },
  {
   "cell_type": "code",
   "execution_count": 55,
   "metadata": {
    "slideshow": {
     "slide_type": "-"
    }
   },
   "outputs": [
    {
     "name": "stdout",
     "output_type": "stream",
     "text": [
      "Vector(0.000, 0.000, 1.000)\n",
      "Vector(0.000, 0.000, -1.000)\n"
     ]
    }
   ],
   "source": [
    "from compas.geometry import Vector\n",
    "\n",
    "u = Vector(1.0, 0.0, 0.0)\n",
    "v = Vector(0.0, 1.0, 0.0)\n",
    "\n",
    "uxv = u.cross(v)\n",
    "vxu = v.cross(u)\n",
    "\n",
    "print(uxv)\n",
    "print(vxu)"
   ]
  },
  {
   "cell_type": "code",
   "execution_count": 56,
   "metadata": {
    "slideshow": {
     "slide_type": "-"
    }
   },
   "outputs": [
    {
     "name": "stdout",
     "output_type": "stream",
     "text": [
      "1.5707963267948966\n",
      "1.5707963267948966\n"
     ]
    }
   ],
   "source": [
    "from compas.geometry import Vector\n",
    "\n",
    "u = Vector(1.0, 0.0, 0.0)\n",
    "v = Vector(0.0, 1.0, 0.0)\n",
    "\n",
    "uxv = u.cross(v)\n",
    "u_uxv = u.angle(uxv)\n",
    "v_uxv = v.angle(uxv)\n",
    "\n",
    "print(u_uxv)\n",
    "print(v_uxv)"
   ]
  },
  {
   "cell_type": "markdown",
   "metadata": {
    "slideshow": {
     "slide_type": "slide"
    }
   },
   "source": [
    "The cross product can be used to compute the area of a convex, 2D polygon:"
   ]
  },
  {
   "cell_type": "markdown",
   "metadata": {},
   "source": [
    "Either via using functions:"
   ]
  },
  {
   "cell_type": "code",
   "execution_count": 57,
   "metadata": {},
   "outputs": [
    {
     "name": "stdout",
     "output_type": "stream",
     "text": [
      "True\n"
     ]
    }
   ],
   "source": [
    "from compas.geometry import subtract_vectors\n",
    "from compas.geometry import cross_vectors\n",
    "from compas.geometry import length_vector\n",
    "from compas.geometry import area_triangle\n",
    "\n",
    "a = [0.0, 0.0, 0.0]\n",
    "b = [1.0, 0.0, 0.0]\n",
    "c = [0.0, 1.0, 0.0]\n",
    "\n",
    "ab = subtract_vectors(b, a)\n",
    "ac = subtract_vectors(c, a)\n",
    "\n",
    "L = length_vector(cross_vectors(ab, ac)) * 0.5\n",
    "A = area_triangle([a, b, c])\n",
    "\n",
    "print(L == A)"
   ]
  },
  {
   "cell_type": "markdown",
   "metadata": {},
   "source": [
    "Or via using classes:"
   ]
  },
  {
   "cell_type": "code",
   "execution_count": 58,
   "metadata": {},
   "outputs": [
    {
     "name": "stdout",
     "output_type": "stream",
     "text": [
      "True\n"
     ]
    }
   ],
   "source": [
    "from compas.geometry import Vector\n",
    "from compas.geometry import area_triangle\n",
    "\n",
    "a = [0.0, 0.0, 0.0]\n",
    "b = [1.0, 0.0, 0.0]\n",
    "c = [0.0, 1.0, 0.0]\n",
    "\n",
    "ab = Vector.from_start_end(a, b)\n",
    "ac = Vector.from_start_end(a, c)\n",
    "\n",
    "L = ab.cross(ac).length * 0.5\n",
    "A = area_triangle([a, b, c])\n",
    "\n",
    "print(L == A)"
   ]
  },
  {
   "cell_type": "markdown",
   "metadata": {
    "slideshow": {
     "slide_type": "slide"
    }
   },
   "source": [
    "# Datastructures"
   ]
  },
  {
   "cell_type": "markdown",
   "metadata": {
    "slideshow": {
     "slide_type": "slide"
    }
   },
   "source": [
    "COMPAS provides a set of custom datastructures, the most important being the Network, Mesh, or the VolMesh.\n",
    "\n",
    "<img src=\"images/datastructures.jpg\" alt=\"drawing\" width=\"800\"/>\n",
    "<img src=\"images/datastructures2.jpg\" alt=\"drawing\" width=\"800\"/>"
   ]
  },
  {
   "cell_type": "markdown",
   "metadata": {
    "slideshow": {
     "slide_type": "slide"
    }
   },
   "source": [
    "### Constructing a network:"
   ]
  },
  {
   "cell_type": "code",
   "execution_count": 59,
   "metadata": {},
   "outputs": [
    {
     "name": "stdout",
     "output_type": "stream",
     "text": [
      "\n",
      "================================================================================\n",
      "Network summary\n",
      "================================================================================\n",
      "\n",
      "- name: Network\n",
      "- vertices: 32\n",
      "- edges: 43\n",
      "- vertex degree: 1/5\n",
      "\n",
      "\n",
      "None\n"
     ]
    }
   ],
   "source": [
    "import os\n",
    "import compas\n",
    "from compas.datastructures import Network\n",
    "\n",
    "HERE = os.path.dirname(os.path.abspath('')) #HERE = os.path.dirname(__file__)\n",
    "DATA = os.path.join(HERE, 'examples','data')\n",
    "FILE = os.path.join(DATA, 'lines.obj')\n",
    "\n",
    "network = Network.from_obj(FILE)\n",
    "print(network.summary())"
   ]
  },
  {
   "cell_type": "code",
   "execution_count": 60,
   "metadata": {},
   "outputs": [
    {
     "name": "stdout",
     "output_type": "stream",
     "text": [
      "\n",
      "================================================================================\n",
      "Mesh summary\n",
      "================================================================================\n",
      "\n",
      "- name: Mesh\n",
      "- vertices: 36\n",
      "- edges: 60\n",
      "- faces: 25\n",
      "- vertex degree: 2/4\n",
      "- face degree: 2/4\n",
      "\n",
      "================================================================================\n",
      "\n",
      "None\n"
     ]
    }
   ],
   "source": [
    "import os\n",
    "import compas\n",
    "from compas.datastructures import Mesh\n",
    "\n",
    "HERE = os.path.dirname(os.path.abspath('')) #HERE = os.path.dirname(__file__)\n",
    "DATA = os.path.join(HERE, 'examples/data')\n",
    "FILE = os.path.join(DATA, 'faces.obj')\n",
    "\n",
    "mesh = Mesh.from_obj(FILE)\n",
    "print(mesh.summary())"
   ]
  },
  {
   "cell_type": "markdown",
   "metadata": {
    "slideshow": {
     "slide_type": "slide"
    }
   },
   "source": [
    "### Visualising Datastructures"
   ]
  },
  {
   "cell_type": "markdown",
   "metadata": {},
   "source": [
    "With mesh plotters in Python:"
   ]
  },
  {
   "cell_type": "code",
   "execution_count": 61,
   "metadata": {},
   "outputs": [
    {
     "data": {
      "image/png": "[encoded data removed]",
      "text/plain": [
       "<Figure size 800x500 with 1 Axes>"
      ]
     },
     "metadata": {},
     "output_type": "display_data"
    }
   ],
   "source": [
    "import os\n",
    "import compas\n",
    "from compas.datastructures import Mesh\n",
    "from compas_plotters import MeshPlotter\n",
    "\n",
    "HERE = os.path.dirname(os.path.abspath('')) #HERE = os.path.dirname(__file__)\n",
    "DATA = os.path.join(HERE, 'examples/data')\n",
    "FILE = os.path.join(DATA, 'faces.obj')\n",
    "\n",
    "mesh = Mesh.from_obj(FILE)\n",
    "\n",
    "plotter = MeshPlotter(mesh, figsize=(8, 5))\n",
    "plotter.draw_vertices()\n",
    "plotter.draw_edges()\n",
    "plotter.draw_faces()\n",
    "plotter.show()"
   ]
  },
  {
   "cell_type": "code",
   "execution_count": 67,
   "metadata": {},
   "outputs": [
    {
     "data": {
      "image/png": "[encoded data removed]",
      "text/plain": [
       "<Figure size 800x500 with 1 Axes>"
      ]
     },
     "metadata": {},
     "output_type": "display_data"
    }
   ],
   "source": [
    "mesh = Mesh.from_obj(FILE)\n",
    "\n",
    "plotter = MeshPlotter(mesh, figsize=(8, 5))\n",
    "\n",
    "plotter.draw_vertices(\n",
    "facecolor={key: (255, 0, 0) for key in mesh.vertices_on_boundary()},\n",
    "text={key: str(mesh.vertex_degree(key)) for key in mesh.vertices()},\n",
    "radius=0.2)\n",
    "\n",
    "plotter.draw_edges(\n",
    "keys=list(mesh.edges_on_boundary()),\n",
    "color=(255, 0, 0))\n",
    "\n",
    "plotter.draw_faces(facecolor={key: (150, 255, 150) for key in mesh.faces() if not mesh.is_face_on_boundary(key)})\n",
    "\n",
    "plotter.show()"
   ]
  },
  {
   "cell_type": "markdown",
   "metadata": {
    "slideshow": {
     "slide_type": "slide"
    }
   },
   "source": [
    "With artists in Rhino Python, open the example in 02_datastructures_and_geometry/examples/mesh_visualisation.py in Rhino."
   ]
  },
  {
   "cell_type": "markdown",
   "metadata": {},
   "source": [
    "With artists in Grasshopper Python, open the example in 02_datastructures_and_geometry/examples/mesh_visualisation.gh in Rhino GH."
   ]
  },
  {
   "cell_type": "markdown",
   "metadata": {
    "slideshow": {
     "slide_type": "slide"
    }
   },
   "source": [
    "### Accessing the data:"
   ]
  },
  {
   "cell_type": "code",
   "execution_count": null,
   "metadata": {},
   "outputs": [],
   "source": [
    "import os\n",
    "import compas\n",
    "from compas.datastructures import Mesh\n",
    "\n",
    "HERE = os.path.dirname(os.path.abspath('')) #HERE = os.path.dirname(__file__)\n",
    "DATA = os.path.join(HERE, 'examples/data')\n",
    "FILE = os.path.join(DATA, 'faces.obj')\n",
    "\n",
    "mesh = Mesh.from_obj(FILE)\n",
    "\n",
    "# print generator object\n",
    "print(mesh.vertices())\n",
    "print(mesh.faces())\n",
    "print(mesh.edges())\n",
    "\n",
    "# print generator object as list\n",
    "print(list(mesh.vertices()))\n",
    "print(list(mesh.faces()))\n",
    "print(list(mesh.edges()))\n",
    "\n",
    "# print keys\n",
    "for key in mesh.vertices():\n",
    "    print(key)\n",
    "for key in mesh.faces():\n",
    "    print(key)\n",
    "for key in mesh.edges():\n",
    "    print(key)"
   ]
  },
  {
   "cell_type": "markdown",
   "metadata": {
    "slideshow": {
     "slide_type": "slide"
    }
   },
   "source": [
    "### Attributes"
   ]
  },
  {
   "cell_type": "code",
   "execution_count": 69,
   "metadata": {
    "slideshow": {
     "slide_type": "slide"
    }
   },
   "outputs": [
    {
     "name": "stdout",
     "output_type": "stream",
     "text": [
      "{'x': 0.0, 'y': 0.0, 'z': 0.0}\n",
      "{}\n",
      "{}\n",
      "{'q': 1.0, 'f': 0.0}\n",
      "0 {'x': 0.0, 'y': 0.0, 'z': 0.0}\n",
      "1 {'x': 2.0, 'y': 0.0, 'z': 0.0}\n",
      "2 {'x': 4.0, 'y': 0.0, 'z': 0.0}\n",
      "3 {'x': 6.0, 'y': 0.0, 'z': 0.0}\n",
      "4 {'x': 8.0, 'y': 0.0, 'z': 0.0}\n",
      "5 {'x': 10.0, 'y': 0.0, 'z': 0.0}\n",
      "6 {'x': 0.0, 'y': 2.0, 'z': 0.0}\n",
      "7 {'x': 2.0, 'y': 2.0, 'z': 0.0}\n",
      "8 {'x': 4.0, 'y': 2.0, 'z': 0.0}\n",
      "9 {'x': 6.0, 'y': 2.0, 'z': 0.0}\n",
      "10 {'x': 8.0, 'y': 2.0, 'z': 0.0}\n",
      "11 {'x': 10.0, 'y': 2.0, 'z': 0.0}\n",
      "12 {'x': 0.0, 'y': 4.0, 'z': 0.0}\n",
      "13 {'x': 2.0, 'y': 4.0, 'z': 0.0}\n",
      "14 {'x': 4.0, 'y': 4.0, 'z': 0.0}\n",
      "15 {'x': 6.0, 'y': 4.0, 'z': 0.0}\n",
      "16 {'x': 8.0, 'y': 4.0, 'z': 0.0}\n",
      "17 {'x': 10.0, 'y': 4.0, 'z': 0.0}\n",
      "18 {'x': 0.0, 'y': 6.0, 'z': 0.0}\n",
      "19 {'x': 2.0, 'y': 6.0, 'z': 0.0}\n",
      "20 {'x': 4.0, 'y': 6.0, 'z': 0.0}\n",
      "21 {'x': 6.0, 'y': 6.0, 'z': 0.0}\n",
      "22 {'x': 8.0, 'y': 6.0, 'z': 0.0}\n",
      "23 {'x': 10.0, 'y': 6.0, 'z': 0.0}\n",
      "24 {'x': 0.0, 'y': 8.0, 'z': 0.0}\n",
      "25 {'x': 2.0, 'y': 8.0, 'z': 0.0}\n",
      "26 {'x': 4.0, 'y': 8.0, 'z': 0.0}\n",
      "27 {'x': 6.0, 'y': 8.0, 'z': 0.0}\n",
      "28 {'x': 8.0, 'y': 8.0, 'z': 0.0}\n",
      "29 {'x': 10.0, 'y': 8.0, 'z': 0.0}\n",
      "30 {'x': 0.0, 'y': 10.0, 'z': 0.0}\n",
      "31 {'x': 2.0, 'y': 10.0, 'z': 0.0}\n",
      "32 {'x': 4.0, 'y': 10.0, 'z': 0.0}\n",
      "33 {'x': 6.0, 'y': 10.0, 'z': 0.0}\n",
      "34 {'x': 8.0, 'y': 10.0, 'z': 0.0}\n",
      "35 {'x': 10.0, 'y': 10.0, 'z': 0.0}\n",
      "0 {}\n",
      "1 {}\n",
      "2 {}\n",
      "3 {}\n",
      "4 {}\n",
      "5 {}\n",
      "6 {}\n",
      "7 {}\n",
      "8 {}\n",
      "9 {}\n",
      "10 {}\n",
      "11 {}\n",
      "12 {}\n",
      "13 {}\n",
      "14 {}\n",
      "15 {}\n",
      "16 {}\n",
      "17 {}\n",
      "18 {}\n",
      "19 {}\n",
      "20 {}\n",
      "21 {}\n",
      "22 {}\n",
      "23 {}\n",
      "24 {}\n",
      "(0, 1) {'q': 1.0, 'f': 0.0}\n",
      "(0, 6) {'q': 1.0, 'f': 0.0}\n",
      "(1, 7) {'q': 1.0, 'f': 0.0}\n",
      "(1, 2) {'q': 1.0, 'f': 0.0}\n",
      "(2, 8) {'q': 1.0, 'f': 0.0}\n",
      "(2, 3) {'q': 1.0, 'f': 0.0}\n",
      "(3, 9) {'q': 1.0, 'f': 0.0}\n",
      "(3, 4) {'q': 1.0, 'f': 0.0}\n",
      "(4, 10) {'q': 1.0, 'f': 0.0}\n",
      "(4, 5) {'q': 1.0, 'f': 0.0}\n",
      "(5, 11) {'q': 1.0, 'f': 0.0}\n",
      "(6, 7) {'q': 1.0, 'f': 0.0}\n",
      "(6, 12) {'q': 1.0, 'f': 0.0}\n",
      "(7, 8) {'q': 1.0, 'f': 0.0}\n",
      "(7, 13) {'q': 1.0, 'f': 0.0}\n",
      "(8, 9) {'q': 1.0, 'f': 0.0}\n",
      "(8, 14) {'q': 1.0, 'f': 0.0}\n",
      "(9, 10) {'q': 1.0, 'f': 0.0}\n",
      "(9, 15) {'q': 1.0, 'f': 0.0}\n",
      "(10, 11) {'q': 1.0, 'f': 0.0}\n",
      "(10, 16) {'q': 1.0, 'f': 0.0}\n",
      "(11, 17) {'q': 1.0, 'f': 0.0}\n",
      "(12, 13) {'q': 1.0, 'f': 0.0}\n",
      "(12, 18) {'q': 1.0, 'f': 0.0}\n",
      "(13, 14) {'q': 1.0, 'f': 0.0}\n",
      "(13, 19) {'q': 1.0, 'f': 0.0}\n",
      "(14, 15) {'q': 1.0, 'f': 0.0}\n",
      "(14, 20) {'q': 1.0, 'f': 0.0}\n",
      "(15, 16) {'q': 1.0, 'f': 0.0}\n",
      "(15, 21) {'q': 1.0, 'f': 0.0}\n",
      "(16, 17) {'q': 1.0, 'f': 0.0}\n",
      "(16, 22) {'q': 1.0, 'f': 0.0}\n",
      "(17, 23) {'q': 1.0, 'f': 0.0}\n",
      "(18, 19) {'q': 1.0, 'f': 0.0}\n",
      "(18, 24) {'q': 1.0, 'f': 0.0}\n",
      "(19, 20) {'q': 1.0, 'f': 0.0}\n",
      "(19, 25) {'q': 1.0, 'f': 0.0}\n",
      "(20, 21) {'q': 1.0, 'f': 0.0}\n",
      "(20, 26) {'q': 1.0, 'f': 0.0}\n",
      "(21, 22) {'q': 1.0, 'f': 0.0}\n",
      "(21, 27) {'q': 1.0, 'f': 0.0}\n",
      "(22, 23) {'q': 1.0, 'f': 0.0}\n",
      "(22, 28) {'q': 1.0, 'f': 0.0}\n",
      "(23, 29) {'q': 1.0, 'f': 0.0}\n",
      "(24, 25) {'q': 1.0, 'f': 0.0}\n",
      "(24, 30) {'q': 1.0, 'f': 0.0}\n",
      "(25, 26) {'q': 1.0, 'f': 0.0}\n",
      "(25, 31) {'q': 1.0, 'f': 0.0}\n",
      "(26, 27) {'q': 1.0, 'f': 0.0}\n",
      "(26, 32) {'q': 1.0, 'f': 0.0}\n",
      "(27, 28) {'q': 1.0, 'f': 0.0}\n",
      "(27, 33) {'q': 1.0, 'f': 0.0}\n",
      "(28, 29) {'q': 1.0, 'f': 0.0}\n",
      "(28, 34) {'q': 1.0, 'f': 0.0}\n",
      "(29, 35) {'q': 1.0, 'f': 0.0}\n",
      "(30, 31) {'q': 1.0, 'f': 0.0}\n",
      "(31, 32) {'q': 1.0, 'f': 0.0}\n",
      "(32, 33) {'q': 1.0, 'f': 0.0}\n",
      "(33, 34) {'q': 1.0, 'f': 0.0}\n",
      "(34, 35) {'q': 1.0, 'f': 0.0}\n"
     ]
    }
   ],
   "source": [
    "import os\n",
    "import compas\n",
    "from compas.datastructures import Mesh\n",
    "\n",
    "HERE = os.path.dirname(os.path.abspath('')) #HERE = os.path.dirname(__file__)\n",
    "DATA = os.path.join(HERE, 'examples/data')\n",
    "FILE = os.path.join(DATA, 'faces.obj')\n",
    "\n",
    "mesh = Mesh.from_obj(FILE)\n",
    "\n",
    "# print the default attributes\n",
    "print(mesh.default_vertex_attributes)\n",
    "print(mesh.default_face_attributes)\n",
    "print(mesh.default_edge_attributes)\n",
    "\n",
    "# add default attributes to the edges\n",
    "mesh.update_default_edge_attributes({'q': 1.0,'f': 0.0})\n",
    "print(mesh.default_edge_attributes)\n",
    "\n",
    "# print the default attributes of each key\n",
    "for key, attr in mesh.vertices(data=True):\n",
    "    print(key, attr)\n",
    "for key, attr in mesh.faces(data=True):\n",
    "    print(key, attr)\n",
    "for u, v, attr in mesh.edges(data=True):\n",
    "    print((u, v), attr)"
   ]
  },
  {
   "cell_type": "code",
   "execution_count": 68,
   "metadata": {},
   "outputs": [
    {
     "name": "stdout",
     "output_type": "stream",
     "text": [
      "0.0\n",
      "[2.0, 0.0, 0.0]\n",
      "[0.0, 2.0, 4.0, 6.0, 8.0, 10.0, 0.0, 2.0, 4.0, 6.0, 8.0, 10.0, 0.0, 2.0, 4.0, 6.0, 8.0, 10.0, 0.0, 2.0, 4.0, 6.0, 8.0, 10.0, 0.0, 2.0, 4.0, 6.0, 8.0, 10.0, 0.0, 2.0, 4.0, 6.0, 8.0, 10.0]\n",
      "[[0.0, 0.0, 0.0], [2.0, 0.0, 0.0], [4.0, 0.0, 0.0], [6.0, 0.0, 0.0], [8.0, 0.0, 0.0], [10.0, 0.0, 0.0], [0.0, 2.0, 0.0], [2.0, 2.0, 0.0], [4.0, 2.0, 0.0], [6.0, 2.0, 0.0], [8.0, 2.0, 0.0], [10.0, 2.0, 0.0], [0.0, 4.0, 0.0], [2.0, 4.0, 0.0], [4.0, 4.0, 0.0], [6.0, 4.0, 0.0], [8.0, 4.0, 0.0], [10.0, 4.0, 0.0], [0.0, 6.0, 0.0], [2.0, 6.0, 0.0], [4.0, 6.0, 0.0], [6.0, 6.0, 0.0], [8.0, 6.0, 0.0], [10.0, 6.0, 0.0], [0.0, 8.0, 0.0], [2.0, 8.0, 0.0], [4.0, 8.0, 0.0], [6.0, 8.0, 0.0], [8.0, 8.0, 0.0], [10.0, 8.0, 0.0], [0.0, 10.0, 0.0], [2.0, 10.0, 0.0], [4.0, 10.0, 0.0], [6.0, 10.0, 0.0], [8.0, 10.0, 0.0], [10.0, 10.0, 0.0]]\n"
     ]
    }
   ],
   "source": [
    "import os\n",
    "import compas\n",
    "from compas.datastructures import Mesh\n",
    "\n",
    "HERE = os.path.dirname(os.path.abspath('')) #HERE = os.path.dirname(__file__)\n",
    "DATA = os.path.join(HERE, 'examples/data')\n",
    "FILE = os.path.join(DATA, 'faces.obj')\n",
    "\n",
    "mesh = Mesh.from_obj(FILE)\n",
    "\n",
    "print(mesh.get_vertex_attribute(0, 'x')) # get the vertex attribute \"x-coordinate\" of the key 0\n",
    "print(mesh.get_vertex_attributes(1, 'xyz')) # get the vertex attribute \"xyz-coordinates\" of the key 1\n",
    "print(mesh.get_vertices_attribute('x')) # get all vertex attributes \"x-coordinates\"\n",
    "print(mesh.get_vertices_attributes('xyz')) # get all vertex attributes \"xyz-coordinates\""
   ]
  },
  {
   "cell_type": "markdown",
   "metadata": {
    "slideshow": {
     "slide_type": "slide"
    }
   },
   "source": [
    "### Geometry vs Topology"
   ]
  },
  {
   "cell_type": "markdown",
   "metadata": {},
   "source": [
    "The datastructure's ***topology*** refers to how the elements are connected.\n",
    "The datastructure's ***geometry*** refers to where the elements are in space."
   ]
  },
  {
   "cell_type": "markdown",
   "metadata": {
    "slideshow": {
     "slide_type": "slide"
    }
   },
   "source": [
    "### Geometry"
   ]
  },
  {
   "cell_type": "code",
   "execution_count": 3,
   "metadata": {},
   "outputs": [
    {
     "name": "stdout",
     "output_type": "stream",
     "text": [
      "[0.0, 0.0, 0.0]\n",
      "[0.0, 0.0, 1.0]\n",
      "1.0\n",
      "[2.0, 0.0, 0.0]\n",
      "[0.0, 0.0, 1.0]\n",
      "2.0\n",
      "[4.0, 0.0, 0.0]\n",
      "[0.0, 0.0, 1.0]\n",
      "2.0\n",
      "[6.0, 0.0, 0.0]\n",
      "[0.0, 0.0, 1.0]\n",
      "2.0\n",
      "[8.0, 0.0, 0.0]\n",
      "[0.0, 0.0, 1.0]\n",
      "2.0\n",
      "[10.0, 0.0, 0.0]\n",
      "[0.0, 0.0, 1.0]\n",
      "1.0\n",
      "[0.0, 2.0, 0.0]\n",
      "[0.0, 0.0, 1.0]\n",
      "2.0\n",
      "[2.0, 2.0, 0.0]\n",
      "[0.0, 0.0, 1.0]\n",
      "4.0\n",
      "[4.0, 2.0, 0.0]\n",
      "[0.0, 0.0, 1.0]\n",
      "4.0\n",
      "[6.0, 2.0, 0.0]\n",
      "[0.0, 0.0, 1.0]\n",
      "4.0\n",
      "[8.0, 2.0, 0.0]\n",
      "[0.0, 0.0, 1.0]\n",
      "4.0\n",
      "[10.0, 2.0, 0.0]\n",
      "[0.0, 0.0, 1.0]\n",
      "2.0\n",
      "[0.0, 4.0, 0.0]\n",
      "[0.0, 0.0, 1.0]\n",
      "2.0\n",
      "[2.0, 4.0, 0.0]\n",
      "[0.0, 0.0, 1.0]\n",
      "4.0\n",
      "[4.0, 4.0, 0.0]\n",
      "[0.0, 0.0, 1.0]\n",
      "4.0\n",
      "[6.0, 4.0, 0.0]\n",
      "[0.0, 0.0, 1.0]\n",
      "4.0\n",
      "[8.0, 4.0, 0.0]\n",
      "[0.0, 0.0, 1.0]\n",
      "4.0\n",
      "[10.0, 4.0, 0.0]\n",
      "[0.0, 0.0, 1.0]\n",
      "2.0\n",
      "[0.0, 6.0, 0.0]\n",
      "[0.0, 0.0, 1.0]\n",
      "2.0\n",
      "[2.0, 6.0, 0.0]\n",
      "[0.0, 0.0, 1.0]\n",
      "4.0\n",
      "[4.0, 6.0, 0.0]\n",
      "[0.0, 0.0, 1.0]\n",
      "4.0\n",
      "[6.0, 6.0, 0.0]\n",
      "[0.0, 0.0, 1.0]\n",
      "4.0\n",
      "[8.0, 6.0, 0.0]\n",
      "[0.0, 0.0, 1.0]\n",
      "4.0\n",
      "[10.0, 6.0, 0.0]\n",
      "[0.0, 0.0, 1.0]\n",
      "2.0\n",
      "[0.0, 8.0, 0.0]\n",
      "[0.0, 0.0, 1.0]\n",
      "2.0\n",
      "[2.0, 8.0, 0.0]\n",
      "[0.0, 0.0, 1.0]\n",
      "4.0\n",
      "[4.0, 8.0, 0.0]\n",
      "[0.0, 0.0, 1.0]\n",
      "4.0\n",
      "[6.0, 8.0, 0.0]\n",
      "[0.0, 0.0, 1.0]\n",
      "4.0\n",
      "[8.0, 8.0, 0.0]\n",
      "[0.0, 0.0, 1.0]\n",
      "4.0\n",
      "[10.0, 8.0, 0.0]\n",
      "[0.0, 0.0, 1.0]\n",
      "2.0\n",
      "[0.0, 10.0, 0.0]\n",
      "[0.0, 0.0, 1.0]\n",
      "1.0\n",
      "[2.0, 10.0, 0.0]\n",
      "[0.0, 0.0, 1.0]\n",
      "2.0\n",
      "[4.0, 10.0, 0.0]\n",
      "[0.0, 0.0, 1.0]\n",
      "2.0\n",
      "[6.0, 10.0, 0.0]\n",
      "[0.0, 0.0, 1.0]\n",
      "2.0\n",
      "[8.0, 10.0, 0.0]\n",
      "[0.0, 0.0, 1.0]\n",
      "2.0\n",
      "[10.0, 10.0, 0.0]\n",
      "[0.0, 0.0, 1.0]\n",
      "1.0\n",
      "[[0.0, 0.0, 0.0], [2.0, 0.0, 0.0], [2.0, 2.0, 0.0], [0.0, 2.0, 0.0]]\n",
      "(0.0, 0.0, 1.0)\n",
      "4.0\n",
      "[[2.0, 0.0, 0.0], [4.0, 0.0, 0.0], [4.0, 2.0, 0.0], [2.0, 2.0, 0.0]]\n",
      "(0.0, 0.0, 1.0)\n",
      "4.0\n",
      "[[4.0, 0.0, 0.0], [6.0, 0.0, 0.0], [6.0, 2.0, 0.0], [4.0, 2.0, 0.0]]\n",
      "(0.0, 0.0, 1.0)\n",
      "4.0\n",
      "[[6.0, 0.0, 0.0], [8.0, 0.0, 0.0], [8.0, 2.0, 0.0], [6.0, 2.0, 0.0]]\n",
      "(0.0, 0.0, 1.0)\n",
      "4.0\n",
      "[[8.0, 0.0, 0.0], [10.0, 0.0, 0.0], [10.0, 2.0, 0.0], [8.0, 2.0, 0.0]]\n",
      "(0.0, 0.0, 1.0)\n",
      "4.0\n",
      "[[0.0, 2.0, 0.0], [2.0, 2.0, 0.0], [2.0, 4.0, 0.0], [0.0, 4.0, 0.0]]\n",
      "(0.0, 0.0, 1.0)\n",
      "4.0\n",
      "[[2.0, 2.0, 0.0], [4.0, 2.0, 0.0], [4.0, 4.0, 0.0], [2.0, 4.0, 0.0]]\n",
      "(0.0, 0.0, 1.0)\n",
      "4.0\n",
      "[[4.0, 2.0, 0.0], [6.0, 2.0, 0.0], [6.0, 4.0, 0.0], [4.0, 4.0, 0.0]]\n",
      "(0.0, 0.0, 1.0)\n",
      "4.0\n",
      "[[6.0, 2.0, 0.0], [8.0, 2.0, 0.0], [8.0, 4.0, 0.0], [6.0, 4.0, 0.0]]\n",
      "(0.0, 0.0, 1.0)\n",
      "4.0\n",
      "[[8.0, 2.0, 0.0], [10.0, 2.0, 0.0], [10.0, 4.0, 0.0], [8.0, 4.0, 0.0]]\n",
      "(0.0, 0.0, 1.0)\n",
      "4.0\n",
      "[[0.0, 4.0, 0.0], [2.0, 4.0, 0.0], [2.0, 6.0, 0.0], [0.0, 6.0, 0.0]]\n",
      "(0.0, 0.0, 1.0)\n",
      "4.0\n",
      "[[2.0, 4.0, 0.0], [4.0, 4.0, 0.0], [4.0, 6.0, 0.0], [2.0, 6.0, 0.0]]\n",
      "(0.0, 0.0, 1.0)\n",
      "4.0\n",
      "[[4.0, 4.0, 0.0], [6.0, 4.0, 0.0], [6.0, 6.0, 0.0], [4.0, 6.0, 0.0]]\n",
      "(0.0, 0.0, 1.0)\n",
      "4.0\n",
      "[[6.0, 4.0, 0.0], [8.0, 4.0, 0.0], [8.0, 6.0, 0.0], [6.0, 6.0, 0.0]]\n",
      "(0.0, 0.0, 1.0)\n",
      "4.0\n",
      "[[8.0, 4.0, 0.0], [10.0, 4.0, 0.0], [10.0, 6.0, 0.0], [8.0, 6.0, 0.0]]\n",
      "(0.0, 0.0, 1.0)\n",
      "4.0\n",
      "[[0.0, 6.0, 0.0], [2.0, 6.0, 0.0], [2.0, 8.0, 0.0], [0.0, 8.0, 0.0]]\n",
      "(0.0, 0.0, 1.0)\n",
      "4.0\n",
      "[[2.0, 6.0, 0.0], [4.0, 6.0, 0.0], [4.0, 8.0, 0.0], [2.0, 8.0, 0.0]]\n",
      "(0.0, 0.0, 1.0)\n",
      "4.0\n",
      "[[4.0, 6.0, 0.0], [6.0, 6.0, 0.0], [6.0, 8.0, 0.0], [4.0, 8.0, 0.0]]\n",
      "(0.0, 0.0, 1.0)\n",
      "4.0\n",
      "[[6.0, 6.0, 0.0], [8.0, 6.0, 0.0], [8.0, 8.0, 0.0], [6.0, 8.0, 0.0]]\n",
      "(0.0, 0.0, 1.0)\n",
      "4.0\n",
      "[[8.0, 6.0, 0.0], [10.0, 6.0, 0.0], [10.0, 8.0, 0.0], [8.0, 8.0, 0.0]]\n",
      "(0.0, 0.0, 1.0)\n",
      "4.0\n",
      "[[0.0, 8.0, 0.0], [2.0, 8.0, 0.0], [2.0, 10.0, 0.0], [0.0, 10.0, 0.0]]\n",
      "(0.0, 0.0, 1.0)\n",
      "4.0\n",
      "[[2.0, 8.0, 0.0], [4.0, 8.0, 0.0], [4.0, 10.0, 0.0], [2.0, 10.0, 0.0]]\n",
      "(0.0, 0.0, 1.0)\n",
      "4.0\n",
      "[[4.0, 8.0, 0.0], [6.0, 8.0, 0.0], [6.0, 10.0, 0.0], [4.0, 10.0, 0.0]]\n",
      "(0.0, 0.0, 1.0)\n",
      "4.0\n",
      "[[6.0, 8.0, 0.0], [8.0, 8.0, 0.0], [8.0, 10.0, 0.0], [6.0, 10.0, 0.0]]\n",
      "(0.0, 0.0, 1.0)\n",
      "4.0\n",
      "[[8.0, 8.0, 0.0], [10.0, 8.0, 0.0], [10.0, 10.0, 0.0], [8.0, 10.0, 0.0]]\n",
      "(0.0, 0.0, 1.0)\n",
      "4.0\n"
     ]
    }
   ],
   "source": [
    "import os\n",
    "import compas\n",
    "from compas.datastructures import Mesh\n",
    "\n",
    "HERE = os.path.dirname(os.path.abspath('')) #HERE = os.path.dirname(__file__)\n",
    "DATA = os.path.join(HERE, 'examples/data')\n",
    "FILE = os.path.join(DATA, 'faces.obj')\n",
    "\n",
    "mesh = Mesh.from_obj(FILE)\n",
    "\n",
    "for key in mesh.vertices():\n",
    "    print(mesh.vertex_coordinates(key))\n",
    "    print(mesh.vertex_normal(key))\n",
    "    print(mesh.vertex_area(key))\n",
    "for fkey in mesh.faces():\n",
    "    print(mesh.face_coordinates(fkey))\n",
    "    print(mesh.face_normal(fkey))\n",
    "    print(mesh.face_area(fkey))"
   ]
  },
  {
   "cell_type": "markdown",
   "metadata": {
    "slideshow": {
     "slide_type": "slide"
    }
   },
   "source": [
    "### Topology"
   ]
  },
  {
   "cell_type": "code",
   "execution_count": 4,
   "metadata": {
    "slideshow": {
     "slide_type": "-"
    }
   },
   "outputs": [
    {
     "name": "stdout",
     "output_type": "stream",
     "text": [
      "[1, 6]\n",
      "2\n",
      "{1, 6}\n",
      "[0]\n",
      "[0, 7, 2]\n",
      "3\n",
      "{0, 2, 7}\n",
      "[0, 1]\n",
      "[1, 8, 3]\n",
      "3\n",
      "{8, 1, 3}\n",
      "[1, 2]\n",
      "[2, 9, 4]\n",
      "3\n",
      "{9, 2, 4}\n",
      "[2, 3]\n",
      "[3, 10, 5]\n",
      "3\n",
      "{10, 3, 5}\n",
      "[3, 4]\n",
      "[4, 11]\n",
      "2\n",
      "{11, 4}\n",
      "[4]\n",
      "[7, 0, 12]\n",
      "3\n",
      "{0, 12, 7}\n",
      "[5, 0]\n",
      "[1, 6, 8, 13]\n",
      "4\n",
      "{8, 1, 13, 6}\n",
      "[1, 0, 6, 5]\n",
      "[2, 7, 9, 14]\n",
      "4\n",
      "{9, 2, 14, 7}\n",
      "[2, 1, 7, 6]\n",
      "[3, 8, 10, 15]\n",
      "4\n",
      "{8, 10, 3, 15}\n",
      "[3, 2, 8, 7]\n",
      "[4, 9, 11, 16]\n",
      "4\n",
      "{16, 9, 11, 4}\n",
      "[4, 3, 9, 8]\n",
      "[5, 10, 17]\n",
      "3\n",
      "{17, 10, 5}\n",
      "[4, 9]\n",
      "[13, 6, 18]\n",
      "3\n",
      "{18, 13, 6}\n",
      "[10, 5]\n",
      "[7, 12, 14, 19]\n",
      "4\n",
      "{19, 12, 14, 7}\n",
      "[6, 5, 11, 10]\n",
      "[8, 13, 15, 20]\n",
      "4\n",
      "{8, 20, 13, 15}\n",
      "[7, 6, 12, 11]\n",
      "[9, 14, 16, 21]\n",
      "4\n",
      "{16, 9, 21, 14}\n",
      "[8, 7, 13, 12]\n",
      "[10, 15, 17, 22]\n",
      "4\n",
      "{17, 10, 22, 15}\n",
      "[9, 8, 14, 13]\n",
      "[11, 16, 23]\n",
      "3\n",
      "{16, 11, 23}\n",
      "[9, 14]\n",
      "[19, 12, 24]\n",
      "3\n",
      "{24, 19, 12}\n",
      "[15, 10]\n",
      "[13, 18, 20, 25]\n",
      "4\n",
      "{25, 18, 20, 13}\n",
      "[11, 10, 16, 15]\n",
      "[14, 19, 21, 26]\n",
      "4\n",
      "{26, 19, 21, 14}\n",
      "[12, 11, 17, 16]\n",
      "[15, 20, 22, 27]\n",
      "4\n",
      "{27, 20, 22, 15}\n",
      "[13, 12, 18, 17]\n",
      "[16, 21, 23, 28]\n",
      "4\n",
      "{16, 28, 21, 23}\n",
      "[14, 13, 19, 18]\n",
      "[17, 22, 29]\n",
      "3\n",
      "{17, 29, 22}\n",
      "[14, 19]\n",
      "[25, 18, 30]\n",
      "3\n",
      "{25, 18, 30}\n",
      "[20, 15]\n",
      "[19, 24, 26, 31]\n",
      "4\n",
      "{24, 26, 19, 31}\n",
      "[16, 15, 21, 20]\n",
      "[20, 25, 27, 32]\n",
      "4\n",
      "{32, 25, 27, 20}\n",
      "[17, 16, 22, 21]\n",
      "[21, 26, 28, 33]\n",
      "4\n",
      "{33, 26, 28, 21}\n",
      "[18, 17, 23, 22]\n",
      "[22, 27, 29, 34]\n",
      "4\n",
      "{34, 27, 29, 22}\n",
      "[19, 18, 24, 23]\n",
      "[23, 28, 35]\n",
      "3\n",
      "{35, 28, 23}\n",
      "[19, 24]\n",
      "[31, 24]\n",
      "2\n",
      "{24, 31}\n",
      "[20]\n",
      "[25, 30, 32]\n",
      "3\n",
      "{32, 25, 30}\n",
      "[21, 20]\n",
      "[26, 31, 33]\n",
      "3\n",
      "{33, 26, 31}\n",
      "[22, 21]\n",
      "[27, 32, 34]\n",
      "3\n",
      "{32, 34, 27}\n",
      "[23, 22]\n",
      "[28, 33, 35]\n",
      "3\n",
      "{33, 35, 28}\n",
      "[24, 23]\n",
      "[29, 34]\n",
      "2\n",
      "{34, 29}\n",
      "[24]\n",
      "[0, 1, 7, 6]\n",
      "[1, 5]\n",
      "[(0, 1), (1, 7), (7, 6), (6, 0)]\n",
      "[1, 2, 8, 7]\n",
      "[2, 6, 0]\n",
      "[(1, 2), (2, 8), (8, 7), (7, 1)]\n",
      "[2, 3, 9, 8]\n",
      "[3, 7, 1]\n",
      "[(2, 3), (3, 9), (9, 8), (8, 2)]\n",
      "[3, 4, 10, 9]\n",
      "[4, 8, 2]\n",
      "[(3, 4), (4, 10), (10, 9), (9, 3)]\n",
      "[4, 5, 11, 10]\n",
      "[9, 3]\n",
      "[(4, 5), (5, 11), (11, 10), (10, 4)]\n",
      "[6, 7, 13, 12]\n",
      "[0, 6, 10]\n",
      "[(6, 7), (7, 13), (13, 12), (12, 6)]\n",
      "[7, 8, 14, 13]\n",
      "[1, 7, 11, 5]\n",
      "[(7, 8), (8, 14), (14, 13), (13, 7)]\n",
      "[8, 9, 15, 14]\n",
      "[2, 8, 12, 6]\n",
      "[(8, 9), (9, 15), (15, 14), (14, 8)]\n",
      "[9, 10, 16, 15]\n",
      "[3, 9, 13, 7]\n",
      "[(9, 10), (10, 16), (16, 15), (15, 9)]\n",
      "[10, 11, 17, 16]\n",
      "[4, 14, 8]\n",
      "[(10, 11), (11, 17), (17, 16), (16, 10)]\n",
      "[12, 13, 19, 18]\n",
      "[5, 11, 15]\n",
      "[(12, 13), (13, 19), (19, 18), (18, 12)]\n",
      "[13, 14, 20, 19]\n",
      "[6, 12, 16, 10]\n",
      "[(13, 14), (14, 20), (20, 19), (19, 13)]\n",
      "[14, 15, 21, 20]\n",
      "[7, 13, 17, 11]\n",
      "[(14, 15), (15, 21), (21, 20), (20, 14)]\n",
      "[15, 16, 22, 21]\n",
      "[8, 14, 18, 12]\n",
      "[(15, 16), (16, 22), (22, 21), (21, 15)]\n",
      "[16, 17, 23, 22]\n",
      "[9, 19, 13]\n",
      "[(16, 17), (17, 23), (23, 22), (22, 16)]\n",
      "[18, 19, 25, 24]\n",
      "[10, 16, 20]\n",
      "[(18, 19), (19, 25), (25, 24), (24, 18)]\n",
      "[19, 20, 26, 25]\n",
      "[11, 17, 21, 15]\n",
      "[(19, 20), (20, 26), (26, 25), (25, 19)]\n",
      "[20, 21, 27, 26]\n",
      "[12, 18, 22, 16]\n",
      "[(20, 21), (21, 27), (27, 26), (26, 20)]\n",
      "[21, 22, 28, 27]\n",
      "[13, 19, 23, 17]\n",
      "[(21, 22), (22, 28), (28, 27), (27, 21)]\n",
      "[22, 23, 29, 28]\n",
      "[14, 24, 18]\n",
      "[(22, 23), (23, 29), (29, 28), (28, 22)]\n",
      "[24, 25, 31, 30]\n",
      "[15, 21]\n",
      "[(24, 25), (25, 31), (31, 30), (30, 24)]\n",
      "[25, 26, 32, 31]\n",
      "[16, 22, 20]\n",
      "[(25, 26), (26, 32), (32, 31), (31, 25)]\n",
      "[26, 27, 33, 32]\n",
      "[17, 23, 21]\n",
      "[(26, 27), (27, 33), (33, 32), (32, 26)]\n",
      "[27, 28, 34, 33]\n",
      "[18, 24, 22]\n",
      "[(27, 28), (28, 34), (34, 33), (33, 27)]\n",
      "[28, 29, 35, 34]\n",
      "[19, 23]\n",
      "[(28, 29), (29, 35), (35, 34), (34, 28)]\n",
      "34\n",
      "29\n",
      "28\n",
      "35\n",
      "29\n",
      "34\n",
      "35\n",
      "28\n"
     ]
    }
   ],
   "source": [
    "mesh = Mesh.from_obj(FILE)\n",
    "\n",
    "for key in mesh.vertices():\n",
    "    print(mesh.vertex_neighbors(key))\n",
    "    print(mesh.vertex_degree(key))\n",
    "    print(mesh.vertex_neighborhood(key))\n",
    "    print(mesh.vertex_faces(key))\n",
    "for fkey in mesh.faces():\n",
    "    print(mesh.face_vertices(fkey))\n",
    "    print(mesh.face_neighbors(fkey))\n",
    "    print(mesh.face_halfedges(fkey))\n",
    "for key in mesh.face_vertices(fkey):\n",
    "    print(mesh.face_vertex_ancestor(fkey, key))\n",
    "    print(mesh.face_vertex_descendant(fkey, key))"
   ]
  },
  {
   "cell_type": "code",
   "execution_count": null,
   "metadata": {},
   "outputs": [],
   "source": []
  }
 ],
 "metadata": {
  "celltoolbar": "Slideshow",
  "kernelspec": {
   "display_name": "Python 3",
   "language": "python",
   "name": "python3"
  },
  "language_info": {
   "codemirror_mode": {
    "name": "ipython",
    "version": 3
   },
   "file_extension": ".py",
   "mimetype": "text/x-python",
   "name": "python",
   "nbconvert_exporter": "python",
   "pygments_lexer": "ipython3",
   "version": "3.6.7"
  },
  "rise": {
   "theme": "white"
  }
 },
 "nbformat": 4,
 "nbformat_minor": 2
}
