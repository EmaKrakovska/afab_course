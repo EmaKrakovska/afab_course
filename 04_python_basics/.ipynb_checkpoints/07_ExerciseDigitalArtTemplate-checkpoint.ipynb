{
 "cells": [
  {
   "cell_type": "markdown",
   "metadata": {},
   "source": [
    "## Artist / Piece\n",
    "\n",
    "name of artist and piece\n",
    "\n",
    "image - link your image in the following row (double click on image to edit the link):\n",
    "\n",
    "![molnar](https://media.vam.ac.uk/media/thira/collection_images/2011EY/2011EY3121_jpg_l.jpg)"
   ]
  },
  {
   "cell_type": "markdown",
   "metadata": {},
   "source": [
    "## Code"
   ]
  },
  {
   "cell_type": "code",
   "execution_count": null,
   "metadata": {},
   "outputs": [],
   "source": []
  }
 ],
 "metadata": {
  "kernelspec": {
   "display_name": "Python 3",
   "language": "python",
   "name": "python3"
  },
  "language_info": {
   "codemirror_mode": {
    "name": "ipython",
    "version": 3
   },
   "file_extension": ".py",
   "mimetype": "text/x-python",
   "name": "python",
   "nbconvert_exporter": "python",
   "pygments_lexer": "ipython3",
   "version": "3.6.6"
  }
 },
 "nbformat": 4,
 "nbformat_minor": 2
}
