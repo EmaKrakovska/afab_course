{
 "cells": [
  {
   "cell_type": "markdown",
   "metadata": {},
   "source": [
    "# loops"
   ]
  },
  {
   "cell_type": "markdown",
   "metadata": {},
   "source": [
    "we use **loops** to repeat a series of actions"
   ]
  },
  {
   "cell_type": "markdown",
   "metadata": {},
   "source": [
    "### while loops"
   ]
  },
  {
   "cell_type": "markdown",
   "metadata": {},
   "source": [
    "repeats statement(s) while a condition is **TRUE** <br>\n",
    "make sure to ALWAYS have an **exit condition**"
   ]
  },
  {
   "cell_type": "code",
   "execution_count": 2,
   "metadata": {},
   "outputs": [
    {
     "name": "stdout",
     "output_type": "stream",
     "text": [
      "1\n",
      "2\n",
      "3\n",
      "4\n",
      "5\n",
      "6\n",
      "7\n",
      "8\n",
      "9\n",
      "10\n",
      "out of while loop\n"
     ]
    }
   ],
   "source": [
    "break_condition = 0\n",
    "while break_condition < 10:\n",
    "    break_condition = break_condition + 1\n",
    "    print(break_condition)\n",
    "else:\n",
    "    print(\"out of while loop\")"
   ]
  },
  {
   "cell_type": "markdown",
   "metadata": {},
   "source": [
    "### for loop"
   ]
  },
  {
   "cell_type": "markdown",
   "metadata": {},
   "source": [
    " iterating over items of a sequence (usually a list)"
   ]
  },
  {
   "cell_type": "code",
   "execution_count": 3,
   "metadata": {},
   "outputs": [
    {
     "name": "stdout",
     "output_type": "stream",
     "text": [
      "dog\n",
      "cat\n",
      "horse\n",
      "rabbit\n",
      "snake\n"
     ]
    }
   ],
   "source": [
    "pets = [\"dog\", \"cat\", \"horse\", \"rabbit\", \"snake\"]\n",
    "for pet in pets:\n",
    "    print(pet)"
   ]
  },
  {
   "cell_type": "code",
   "execution_count": 4,
   "metadata": {},
   "outputs": [
    {
     "name": "stdout",
     "output_type": "stream",
     "text": [
      "100.0\n",
      "100.2\n",
      "100.4\n",
      "100.6\n",
      "100.8\n"
     ]
    }
   ],
   "source": [
    "numbers = range(5)\n",
    "for n in numbers:\n",
    "    print(n / 5.0 + 100)"
   ]
  },
  {
   "cell_type": "code",
   "execution_count": 5,
   "metadata": {},
   "outputs": [
    {
     "name": "stdout",
     "output_type": "stream",
     "text": [
      "current letter:  P\n",
      "current letter:  y\n",
      "current letter:  t\n",
      "current letter:  h\n",
      "current letter:  o\n",
      "current letter:  n\n"
     ]
    }
   ],
   "source": [
    "for letter in \"Python\":\n",
    "    print(\"current letter: \", letter)"
   ]
  },
  {
   "cell_type": "code",
   "execution_count": 7,
   "metadata": {},
   "outputs": [
    {
     "name": "stdout",
     "output_type": "stream",
     "text": [
      "0 dog\n",
      "1 cat\n",
      "2 horse\n",
      "3 rabbit\n",
      "4 snake\n"
     ]
    }
   ],
   "source": [
    "for index in range(len(pets)):\n",
    "    print(index, pets[index])"
   ]
  },
  {
   "cell_type": "code",
   "execution_count": 8,
   "metadata": {},
   "outputs": [
    {
     "name": "stdout",
     "output_type": "stream",
     "text": [
      "0 dog\n",
      "1 cat\n",
      "2 horse\n",
      "3 rabbit\n",
      "4 snake\n"
     ]
    }
   ],
   "source": [
    "for i,pet in enumerate(pets):\n",
    "    print(i, pet)"
   ]
  },
  {
   "cell_type": "markdown",
   "metadata": {
    "slideshow": {
     "slide_type": "slide"
    }
   },
   "source": [
    "# nested loops"
   ]
  },
  {
   "cell_type": "code",
   "execution_count": 11,
   "metadata": {
    "scrolled": true,
    "slideshow": {
     "slide_type": "slide"
    }
   },
   "outputs": [
    {
     "name": "stdout",
     "output_type": "stream",
     "text": [
      "i 0 j 0\n",
      "i 0 j 1\n",
      "i 0 j 2\n",
      "i 0 j 3\n",
      "i 0 j 4\n",
      "i 0 j 5\n",
      "i 1 j 0\n",
      "i 1 j 1\n",
      "i 1 j 2\n",
      "i 1 j 3\n",
      "i 1 j 4\n",
      "i 1 j 5\n",
      "i 2 j 0\n",
      "i 2 j 1\n",
      "i 2 j 2\n",
      "i 2 j 3\n",
      "i 2 j 4\n",
      "i 2 j 5\n",
      "i 3 j 0\n",
      "i 3 j 1\n",
      "i 3 j 2\n",
      "i 3 j 3\n",
      "i 3 j 4\n",
      "i 3 j 5\n",
      "i 4 j 0\n",
      "i 4 j 1\n",
      "i 4 j 2\n",
      "i 4 j 3\n",
      "i 4 j 4\n",
      "i 4 j 5\n",
      "i 5 j 0\n",
      "i 5 j 1\n",
      "i 5 j 2\n",
      "i 5 j 3\n",
      "i 5 j 4\n",
      "i 5 j 5\n",
      "i 6 j 0\n",
      "i 6 j 1\n",
      "i 6 j 2\n",
      "i 6 j 3\n",
      "i 6 j 4\n",
      "i 6 j 5\n",
      "i 7 j 0\n",
      "i 7 j 1\n",
      "i 7 j 2\n",
      "i 7 j 3\n",
      "i 7 j 4\n",
      "i 7 j 5\n",
      "i 8 j 0\n",
      "i 8 j 1\n",
      "i 8 j 2\n",
      "i 8 j 3\n",
      "i 8 j 4\n",
      "i 8 j 5\n",
      "i 9 j 0\n",
      "i 9 j 1\n",
      "i 9 j 2\n",
      "i 9 j 3\n",
      "i 9 j 4\n",
      "i 9 j 5\n",
      "60 points have been generated\n"
     ]
    }
   ],
   "source": [
    "points = []\n",
    "x_size = 10\n",
    "y_size = 6\n",
    "\n",
    "for i in range(x_size):\n",
    "    for j in range(y_size):\n",
    "        print(\"i\", i, \"j\", j)\n",
    "else:\n",
    "    print(x_size * y_size, \"points have been generated\")"
   ]
  },
  {
   "cell_type": "code",
   "execution_count": null,
   "metadata": {},
   "outputs": [],
   "source": []
  }
 ],
 "metadata": {
  "celltoolbar": "Slideshow",
  "kernelspec": {
   "display_name": "Python 3",
   "language": "python",
   "name": "python3"
  },
  "language_info": {
   "codemirror_mode": {
    "name": "ipython",
    "version": 3
   },
   "file_extension": ".py",
   "mimetype": "text/x-python",
   "name": "python",
   "nbconvert_exporter": "python",
   "pygments_lexer": "ipython3",
   "version": "3.6.5"
  }
 },
 "nbformat": 4,
 "nbformat_minor": 2
}
