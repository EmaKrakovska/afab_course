{
 "cells": [
  {
   "cell_type": "markdown",
   "metadata": {
    "slideshow": {
     "slide_type": "slide"
    }
   },
   "source": [
    "# loops"
   ]
  },
  {
   "cell_type": "markdown",
   "metadata": {
    "slideshow": {
     "slide_type": "fragment"
    }
   },
   "source": [
    "we use **loops** to repeat a series of actions"
   ]
  },
  {
   "cell_type": "markdown",
   "metadata": {
    "slideshow": {
     "slide_type": "slide"
    }
   },
   "source": [
    "### while loops"
   ]
  },
  {
   "cell_type": "markdown",
   "metadata": {
    "slideshow": {
     "slide_type": "fragment"
    }
   },
   "source": [
    "repeats statement(s) while a condition is **TRUE** <br>\n",
    "make sure to ALWAYS have an **exit condition**"
   ]
  },
  {
   "cell_type": "code",
   "execution_count": 1,
   "metadata": {
    "slideshow": {
     "slide_type": "fragment"
    }
   },
   "outputs": [
    {
     "name": "stdout",
     "output_type": "stream",
     "text": [
      "1\n",
      "2\n",
      "3\n",
      "4\n",
      "5\n",
      "6\n",
      "7\n",
      "8\n",
      "9\n",
      "10\n",
      "out of while loop\n"
     ]
    }
   ],
   "source": [
    "break_condition = 0\n",
    "while break_condition < 10:\n",
    "    break_condition = break_condition + 1\n",
    "    print(break_condition)\n",
    "else:\n",
    "    print(\"out of while loop\")"
   ]
  },
  {
   "cell_type": "markdown",
   "metadata": {
    "slideshow": {
     "slide_type": "slide"
    }
   },
   "source": [
    "### for loop"
   ]
  },
  {
   "cell_type": "markdown",
   "metadata": {
    "slideshow": {
     "slide_type": "fragment"
    }
   },
   "source": [
    " iterating over items of a sequence (usually a list)"
   ]
  },
  {
   "cell_type": "code",
   "execution_count": 2,
   "metadata": {
    "slideshow": {
     "slide_type": "fragment"
    }
   },
   "outputs": [
    {
     "name": "stdout",
     "output_type": "stream",
     "text": [
      "dog\n",
      "cat\n",
      "horse\n",
      "rabbit\n",
      "snake\n"
     ]
    }
   ],
   "source": [
    "pets = [\"dog\", \"cat\", \"horse\", \"rabbit\", \"snake\"]\n",
    "for pet in pets:\n",
    "    print(pet)"
   ]
  },
  {
   "cell_type": "code",
   "execution_count": 3,
   "metadata": {
    "slideshow": {
     "slide_type": "fragment"
    }
   },
   "outputs": [
    {
     "name": "stdout",
     "output_type": "stream",
     "text": [
      "100.0\n",
      "100.2\n",
      "100.4\n",
      "100.6\n",
      "100.8\n"
     ]
    }
   ],
   "source": [
    "numbers = range(5)\n",
    "for n in numbers:\n",
    "    print(n / 5.0 + 100)"
   ]
  },
  {
   "cell_type": "code",
   "execution_count": 4,
   "metadata": {
    "slideshow": {
     "slide_type": "fragment"
    }
   },
   "outputs": [
    {
     "name": "stdout",
     "output_type": "stream",
     "text": [
      "current letter:  P\n",
      "current letter:  y\n",
      "current letter:  t\n",
      "current letter:  h\n",
      "current letter:  o\n",
      "current letter:  n\n"
     ]
    }
   ],
   "source": [
    "for letter in \"Python\":\n",
    "    print(\"current letter: \", letter)"
   ]
  },
  {
   "cell_type": "code",
   "execution_count": 5,
   "metadata": {
    "slideshow": {
     "slide_type": "slide"
    }
   },
   "outputs": [
    {
     "name": "stdout",
     "output_type": "stream",
     "text": [
      "0 dog\n",
      "1 cat\n",
      "2 horse\n",
      "3 rabbit\n",
      "4 snake\n"
     ]
    }
   ],
   "source": [
    "for index in range(len(pets)):\n",
    "    print(index, pets[index])"
   ]
  },
  {
   "cell_type": "code",
   "execution_count": 6,
   "metadata": {
    "slideshow": {
     "slide_type": "fragment"
    }
   },
   "outputs": [
    {
     "name": "stdout",
     "output_type": "stream",
     "text": [
      "0 dog\n",
      "1 cat\n",
      "2 horse\n",
      "3 rabbit\n",
      "4 snake\n"
     ]
    }
   ],
   "source": [
    "for i,pet in enumerate(pets):\n",
    "    print(i, pet)"
   ]
  },
  {
   "cell_type": "markdown",
   "metadata": {},
   "source": [
    "### exercise loop"
   ]
  },
  {
   "cell_type": "markdown",
   "metadata": {},
   "source": [
    "write a program that multiplies all items in a list"
   ]
  },
  {
   "cell_type": "code",
   "execution_count": null,
   "metadata": {},
   "outputs": [],
   "source": [
    "list_1 = [3, 13, 5, 89, 21]\n",
    "\n",
    "### insert code here"
   ]
  },
  {
   "cell_type": "markdown",
   "metadata": {},
   "source": [
    "write a program to get a list, sorted in increasing order by the last element in each tuple from a given list of non-empty tuples. <br>\n",
    "Sample List : [(2, 5), (1, 2), (4, 4), (2, 3), (2, 1)] <br>\n",
    "Expected Result : [(2, 1), (1, 2), (2, 3), (4, 4), (2, 5)]"
   ]
  },
  {
   "cell_type": "markdown",
   "metadata": {
    "slideshow": {
     "slide_type": "slide"
    }
   },
   "source": [
    "# nested loops"
   ]
  },
  {
   "cell_type": "code",
   "execution_count": 7,
   "metadata": {
    "scrolled": true,
    "slideshow": {
     "slide_type": "fragment"
    }
   },
   "outputs": [
    {
     "name": "stdout",
     "output_type": "stream",
     "text": [
      "i 0 j 0\n",
      "i 0 j 1\n",
      "i 0 j 2\n",
      "i 0 j 3\n",
      "i 0 j 4\n",
      "i 0 j 5\n",
      "i 1 j 0\n",
      "i 1 j 1\n",
      "i 1 j 2\n",
      "i 1 j 3\n",
      "i 1 j 4\n",
      "i 1 j 5\n",
      "i 2 j 0\n",
      "i 2 j 1\n",
      "i 2 j 2\n",
      "i 2 j 3\n",
      "i 2 j 4\n",
      "i 2 j 5\n",
      "i 3 j 0\n",
      "i 3 j 1\n",
      "i 3 j 2\n",
      "i 3 j 3\n",
      "i 3 j 4\n",
      "i 3 j 5\n",
      "i 4 j 0\n",
      "i 4 j 1\n",
      "i 4 j 2\n",
      "i 4 j 3\n",
      "i 4 j 4\n",
      "i 4 j 5\n",
      "i 5 j 0\n",
      "i 5 j 1\n",
      "i 5 j 2\n",
      "i 5 j 3\n",
      "i 5 j 4\n",
      "i 5 j 5\n",
      "i 6 j 0\n",
      "i 6 j 1\n",
      "i 6 j 2\n",
      "i 6 j 3\n",
      "i 6 j 4\n",
      "i 6 j 5\n",
      "i 7 j 0\n",
      "i 7 j 1\n",
      "i 7 j 2\n",
      "i 7 j 3\n",
      "i 7 j 4\n",
      "i 7 j 5\n",
      "i 8 j 0\n",
      "i 8 j 1\n",
      "i 8 j 2\n",
      "i 8 j 3\n",
      "i 8 j 4\n",
      "i 8 j 5\n",
      "i 9 j 0\n",
      "i 9 j 1\n",
      "i 9 j 2\n",
      "i 9 j 3\n",
      "i 9 j 4\n",
      "i 9 j 5\n",
      "60 points have been generated\n"
     ]
    }
   ],
   "source": [
    "x_size = 10\n",
    "y_size = 6\n",
    "\n",
    "for i in range(x_size):\n",
    "    for j in range(y_size):\n",
    "        print(\"i\", i, \"j\", j)\n",
    "else:\n",
    "    print(x_size * y_size, \"points have been generated\")"
   ]
  },
  {
   "cell_type": "markdown",
   "metadata": {
    "slideshow": {
     "slide_type": "slide"
    }
   },
   "source": [
    "### exercise nested loop three dimensional array"
   ]
  },
  {
   "cell_type": "code",
   "execution_count": null,
   "metadata": {
    "slideshow": {
     "slide_type": "fragment"
    }
   },
   "outputs": [],
   "source": [
    "x_size = 10\n",
    "y_size = 6\n",
    "z_size = 5\n",
    "\n",
    "# add code for 3rd dimension\n",
    "for i in range(x_size):\n",
    "    for j in range(y_size):\n",
    "        pass\n",
    "else:\n",
    "    pass\n",
    "    #print(x_size * y_size, \"points have been generated\")"
   ]
  },
  {
   "cell_type": "markdown",
   "metadata": {
    "slideshow": {
     "slide_type": "slide"
    }
   },
   "source": [
    "### nested lists "
   ]
  },
  {
   "cell_type": "code",
   "execution_count": 8,
   "metadata": {
    "slideshow": {
     "slide_type": "fragment"
    }
   },
   "outputs": [
    {
     "name": "stdout",
     "output_type": "stream",
     "text": [
      "60 points have been generated\n",
      "[(0, 0), (0, 1), (0, 2), (0, 3), (0, 4), (0, 5), (1, 0), (1, 1), (1, 2), (1, 3), (1, 4), (1, 5), (2, 0), (2, 1), (2, 2), (2, 3), (2, 4), (2, 5), (3, 0), (3, 1), (3, 2), (3, 3), (3, 4), (3, 5), (4, 0), (4, 1), (4, 2), (4, 3), (4, 4), (4, 5), (5, 0), (5, 1), (5, 2), (5, 3), (5, 4), (5, 5), (6, 0), (6, 1), (6, 2), (6, 3), (6, 4), (6, 5), (7, 0), (7, 1), (7, 2), (7, 3), (7, 4), (7, 5), (8, 0), (8, 1), (8, 2), (8, 3), (8, 4), (8, 5), (9, 0), (9, 1), (9, 2), (9, 3), (9, 4), (9, 5)]\n"
     ]
    }
   ],
   "source": [
    "points = []\n",
    "x_size = 10\n",
    "y_size = 6\n",
    "\n",
    "for i in range(x_size):\n",
    "    for j in range(y_size):\n",
    "        points.append((i, j))\n",
    "else:\n",
    "    print(x_size * y_size, \"points have been generated\")\n",
    "    print(points)"
   ]
  },
  {
   "cell_type": "code",
   "execution_count": 9,
   "metadata": {
    "slideshow": {
     "slide_type": "fragment"
    }
   },
   "outputs": [
    {
     "name": "stdout",
     "output_type": "stream",
     "text": [
      "60 points have been generated\n",
      "[[(0, 0), (0, 1), (0, 2), (0, 3), (0, 4), (0, 5)], [(1, 0), (1, 1), (1, 2), (1, 3), (1, 4), (1, 5)], [(2, 0), (2, 1), (2, 2), (2, 3), (2, 4), (2, 5)], [(3, 0), (3, 1), (3, 2), (3, 3), (3, 4), (3, 5)], [(4, 0), (4, 1), (4, 2), (4, 3), (4, 4), (4, 5)], [(5, 0), (5, 1), (5, 2), (5, 3), (5, 4), (5, 5)], [(6, 0), (6, 1), (6, 2), (6, 3), (6, 4), (6, 5)], [(7, 0), (7, 1), (7, 2), (7, 3), (7, 4), (7, 5)], [(8, 0), (8, 1), (8, 2), (8, 3), (8, 4), (8, 5)], [(9, 0), (9, 1), (9, 2), (9, 3), (9, 4), (9, 5)]]\n"
     ]
    }
   ],
   "source": [
    "points = []\n",
    "x_size = 10\n",
    "y_size = 6\n",
    "\n",
    "for i in range(x_size):\n",
    "    points.append([])\n",
    "    for j in range(y_size):\n",
    "        points[i].append((i,j))\n",
    "else:\n",
    "    print(x_size * y_size, \"points have been generated\")\n",
    "    print(points)"
   ]
  },
  {
   "cell_type": "markdown",
   "metadata": {
    "slideshow": {
     "slide_type": "slide"
    }
   },
   "source": [
    "### nested loop exercise"
   ]
  },
  {
   "cell_type": "markdown",
   "metadata": {
    "slideshow": {
     "slide_type": "fragment"
    }
   },
   "source": [
    "write a code that generates a nested list with point coordinates to generate a point grid in rhino (of the form: <br> \n",
    "<br> list_points = <br> <br>\n",
    "[[x1,y1,z1], [x1,y1,z2],...[x1,y1,zn], <br> [x1,y2,z1], [x1,y2,z2],...[x1,y2,zn], <br>\n",
    "... <br>\n",
    "[x1,yn,z1], [x1,yn,z2],...[x1,yn,zn], <br>\n",
    "[x2,y1,z1], [x2,y1,z2],...[x2,y1,zn], <br>\n",
    "[x2,y2,z1], [x2,y2,z2],...[x2,y2,zn], <br>\n",
    "... <br>\n",
    "[x2,yn,z1], [x2,yn,z2],...[x2,yn,zn], <br>\n",
    "... <br>\n",
    "[xn,y1,z1], [xn,y1,z2],...[xn,y1,zn], <br>\n",
    "[xn,y2,z1], [xn,y2,z2],...[xn,y2,zn], <br>\n",
    "... <br>\n",
    "[xn,yn,z1], [xn,yn,z2],...[xn,yn,zn]] <br>"
   ]
  },
  {
   "cell_type": "code",
   "execution_count": null,
   "metadata": {},
   "outputs": [],
   "source": []
  }
 ],
 "metadata": {
  "celltoolbar": "Slideshow",
  "kernelspec": {
   "display_name": "Python 3",
   "language": "python",
   "name": "python3"
  },
  "language_info": {
   "codemirror_mode": {
    "name": "ipython",
    "version": 3
   },
   "file_extension": ".py",
   "mimetype": "text/x-python",
   "name": "python",
   "nbconvert_exporter": "python",
   "pygments_lexer": "ipython3",
   "version": "3.6.6"
  }
 },
 "nbformat": 4,
 "nbformat_minor": 2
}
