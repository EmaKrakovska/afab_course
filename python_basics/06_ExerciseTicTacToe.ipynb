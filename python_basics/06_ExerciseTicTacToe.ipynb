{
 "cells": [
  {
   "cell_type": "markdown",
   "metadata": {},
   "source": [
    "### visualisation\n",
    "print out the list in a matrix form (every sub-list in a row)"
   ]
  },
  {
   "cell_type": "code",
   "execution_count": 3,
   "metadata": {},
   "outputs": [],
   "source": [
    "def print_ttt(list_ttt):\n",
    "    for t in list_ttt:\n",
    "        print(t)"
   ]
  },
  {
   "cell_type": "markdown",
   "metadata": {},
   "source": [
    "### check for winner\n",
    "write a function that takes a list of the form <br>\n",
    "[[1,1,1],<br>[1,1,1],<br>[1,1,1]]<br> as input and checks if all elements in a combinations that forms a row are the same. For example (list[0][0], list[1][1], list[2][2]) form a diagonal. "
   ]
  },
  {
   "cell_type": "code",
   "execution_count": 7,
   "metadata": {},
   "outputs": [],
   "source": [
    "\n",
    "def check_winner(list_ttt):\n",
    "    ### write code here\n",
    "    pass\n",
    "                           "
   ]
  },
  {
   "cell_type": "markdown",
   "metadata": {},
   "source": [
    "### play\n",
    "write a function that defines one move for each player: call \"input()\" to ask for a string user input <br>\n",
    "the code should follow these steps: <br>\n",
    "ask for input row from player 1 <br>\n",
    "ask for input column for player 2 <br>\n",
    "add \"X\" to th elist at the position [row][column]<br>\n",
    "check if player won (call function already defined) <br>\n",
    "ask for input row from player 1 <br>\n",
    "ask for input column for player 2 <br>\n",
    "add \"X\" to th elist at the position [row][column]<br>\n",
    "check if player won (call function already defined) <br>"
   ]
  },
  {
   "cell_type": "code",
   "execution_count": 5,
   "metadata": {},
   "outputs": [],
   "source": [
    "def play():\n",
    "    # useful functions:\n",
    "    row_1 = input(\"row nb X \")\n",
    "    row_1_int = int(row_1)\n",
    "    ### write code here\n"
   ]
  },
  {
   "cell_type": "markdown",
   "metadata": {},
   "source": [
    "### input list hardcoded"
   ]
  },
  {
   "cell_type": "code",
   "execution_count": 4,
   "metadata": {},
   "outputs": [
    {
     "name": "stdout",
     "output_type": "stream",
     "text": [
      "[1, 1, 1]\n",
      "[1, 1, 1]\n",
      "[1, 1, 1]\n"
     ]
    }
   ],
   "source": [
    "tictactoe_list = [[1,1,1],\n",
    "                 [1,1,1],\n",
    "                 [1,1,1]]\n",
    "\n",
    "print_ttt(tictactoe_list)"
   ]
  },
  {
   "cell_type": "markdown",
   "metadata": {},
   "source": [
    "### play in a loop until someone wins"
   ]
  },
  {
   "cell_type": "code",
   "execution_count": null,
   "metadata": {},
   "outputs": [],
   "source": [
    "for i in range(10):\n",
    "    win_test = play()\n",
    "    # check if winner: break"
   ]
  },
  {
   "cell_type": "markdown",
   "metadata": {},
   "source": []
  }
 ],
 "metadata": {
  "kernelspec": {
   "display_name": "Python 3",
   "language": "python",
   "name": "python3"
  },
  "language_info": {
   "codemirror_mode": {
    "name": "ipython",
    "version": 3
   },
   "file_extension": ".py",
   "mimetype": "text/x-python",
   "name": "python",
   "nbconvert_exporter": "python",
   "pygments_lexer": "ipython3",
   "version": "3.6.6"
  }
 },
 "nbformat": 4,
 "nbformat_minor": 2
}
