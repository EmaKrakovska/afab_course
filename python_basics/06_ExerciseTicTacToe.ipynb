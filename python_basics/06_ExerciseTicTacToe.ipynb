{
 "cells": [
  {
   "cell_type": "markdown",
   "metadata": {},
   "source": [
    "### visualisation\n",
    "print out the list in a matrix form (every sub-list in a row)"
   ]
  },
  {
   "cell_type": "code",
   "execution_count": 6,
   "metadata": {},
   "outputs": [],
   "source": [
    "def print_ttt(list_ttt):\n",
    "    for t in list_ttt:\n",
    "        print(t)"
   ]
  },
  {
   "cell_type": "markdown",
   "metadata": {},
   "source": [
    "### check for winner\n",
    "write a function that takes a list of the form <br>\n",
    "[[1,1,1],<br>[1,1,1],<br>[1,1,1]]<br> as input and checks if all elements in a combinations that forms a row are the same. For example (list[0][0], list[1][1], list[2][2]) form a diagonal. "
   ]
  },
  {
   "cell_type": "code",
   "execution_count": 7,
   "metadata": {},
   "outputs": [],
   "source": [
    "\n",
    "def check_winner(list_ttt):\n",
    "    ### write code here\n",
    "    pass\n",
    "                           "
   ]
  },
  {
   "cell_type": "markdown",
   "metadata": {},
   "source": [
    "### play\n",
    "write a function that defines one move for each player: call \"input()\" to ask for a string user input <br>\n",
    "the code should follow these steps: <br>\n",
    "ask for input row from player 1 <br>\n",
    "ask for input column for player 2 <br>\n",
    "add \"X\" to th elist at the position [row][column]<br>\n",
    "check if player won (call function already defined) <br>\n",
    "ask for input row from player 1 <br>\n",
    "ask for input column for player 2 <br>\n",
    "add \"X\" to th elist at the position [row][column]<br>\n",
    "check if player won (call function already defined) <br>"
   ]
  },
  {
   "cell_type": "code",
   "execution_count": 12,
   "metadata": {},
   "outputs": [],
   "source": [
    "def play():\n",
    "    # useful functions:\n",
    "    row_1 = input(\"row nb X \")\n",
    "    row_1_int = int(row_1)\n",
    "    ### write code here\n"
   ]
  },
  {
   "cell_type": "markdown",
   "metadata": {},
   "source": [
    "### input list hardcoded"
   ]
  },
  {
   "cell_type": "code",
   "execution_count": 8,
   "metadata": {},
   "outputs": [
    {
     "name": "stdout",
     "output_type": "stream",
     "text": [
      "[1, 1, 1]\n",
      "[1, 1, 1]\n",
      "[1, 1, 1]\n"
     ]
    }
   ],
   "source": [
    "tictactoe_list = [[1,1,1],\n",
    "                 [1,1,1],\n",
    "                 [1,1,1]]\n",
    "\n",
    "print_ttt(tictactoe_list)"
   ]
  },
  {
   "cell_type": "markdown",
   "metadata": {},
   "source": [
    "### play in a loop until someone wins"
   ]
  },
  {
   "cell_type": "code",
   "execution_count": 1,
   "metadata": {},
   "outputs": [
    {
     "ename": "NameError",
     "evalue": "name 'play' is not defined",
     "output_type": "error",
     "traceback": [
      "\u001b[1;31m---------------------------------------------------------------------------\u001b[0m",
      "\u001b[1;31mNameError\u001b[0m                                 Traceback (most recent call last)",
      "\u001b[1;32m<ipython-input-1-464b3326228d>\u001b[0m in \u001b[0;36m<module>\u001b[1;34m\u001b[0m\n\u001b[0;32m      1\u001b[0m \u001b[1;32mfor\u001b[0m \u001b[0mi\u001b[0m \u001b[1;32min\u001b[0m \u001b[0mrange\u001b[0m\u001b[1;33m(\u001b[0m\u001b[1;36m10\u001b[0m\u001b[1;33m)\u001b[0m\u001b[1;33m:\u001b[0m\u001b[1;33m\u001b[0m\u001b[0m\n\u001b[1;32m----> 2\u001b[1;33m     \u001b[0mwin_test\u001b[0m \u001b[1;33m=\u001b[0m \u001b[0mplay\u001b[0m\u001b[1;33m(\u001b[0m\u001b[1;33m)\u001b[0m\u001b[1;33m\u001b[0m\u001b[0m\n\u001b[0m\u001b[0;32m      3\u001b[0m     \u001b[1;31m# check if winner: break\u001b[0m\u001b[1;33m\u001b[0m\u001b[1;33m\u001b[0m\u001b[0m\n",
      "\u001b[1;31mNameError\u001b[0m: name 'play' is not defined"
     ]
    }
   ],
   "source": [
    "for i in range(10):\n",
    "    win_test = play()\n",
    "    # check if winner: break"
   ]
  },
  {
   "cell_type": "markdown",
   "metadata": {},
   "source": []
  }
 ],
 "metadata": {
  "kernelspec": {
   "display_name": "Python 3",
   "language": "python",
   "name": "python3"
  },
  "language_info": {
   "codemirror_mode": {
    "name": "ipython",
    "version": 3
   },
   "file_extension": ".py",
   "mimetype": "text/x-python",
   "name": "python",
   "nbconvert_exporter": "python",
   "pygments_lexer": "ipython3",
   "version": "3.6.6"
  }
 },
 "nbformat": 4,
 "nbformat_minor": 2
}
