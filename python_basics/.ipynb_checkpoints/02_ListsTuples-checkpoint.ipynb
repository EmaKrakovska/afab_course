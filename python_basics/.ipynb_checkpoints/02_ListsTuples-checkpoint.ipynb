{
 "cells": [
  {
   "cell_type": "markdown",
   "metadata": {},
   "source": [
    "# lists"
   ]
  },
  {
   "cell_type": "markdown",
   "metadata": {},
   "source": [
    "**lists** are a list of values <br>\n",
    "constructed with square brackets, separating items with commas <br>\n",
    "these items can have any types, e.g."
   ]
  },
  {
   "cell_type": "code",
   "execution_count": 3,
   "metadata": {},
   "outputs": [],
   "source": [
    "number_list = [1, 3, 4, 6, 8, 11, 13]\n",
    "string_list = [\"hello\", \"goodbye\", \"no more ideas\", \"etc.\"]\n",
    "mixed_list = [\"strings\", 5, 6, 6.7, True, \"etc.\"] # this is NOT a good way of using list and should be avoided!!!!"
   ]
  },
  {
   "cell_type": "markdown",
   "metadata": {},
   "source": [
    "## arithmetic progressions in lists, range() function"
   ]
  },
  {
   "cell_type": "code",
   "execution_count": 11,
   "metadata": {},
   "outputs": [
    {
     "name": "stdout",
     "output_type": "stream",
     "text": [
      "[1, 2, 3, 4, 5, 6, 7, 8, 9]\n",
      "[1, 6, 11, 16, 21, 26, 31, 36, 41, 46, 51, 56, 61, 66, 71, 76, 81, 86, 91, 96]\n",
      "[100, 80, 60, 40, 20, 0]\n"
     ]
    }
   ],
   "source": [
    "a = range(1,10)\n",
    "print(list(a))\n",
    "print(list(range(1,100,5)))\n",
    "print(list(range(100, -10, -20)))"
   ]
  },
  {
   "cell_type": "markdown",
   "metadata": {},
   "source": [
    "## basic list operations\n",
    "**len()**, **+** (concatenation), ***** (repetition), **in** (membership)"
   ]
  },
  {
   "cell_type": "code",
   "execution_count": 12,
   "metadata": {},
   "outputs": [
    {
     "name": "stdout",
     "output_type": "stream",
     "text": [
      "4\n",
      "['hello', 'goodbye', 'no more ideas', 'etc.', 1, 3, 4, 6, 8, 11, 13]\n",
      "['hello', 'goodbye', 'no more ideas', 'etc.', 'hello', 'goodbye', 'no more ideas', 'etc.', 'hello', 'goodbye', 'no more ideas', 'etc.']\n",
      "True\n",
      "False\n"
     ]
    }
   ],
   "source": [
    "print(len(string_list))\n",
    "print(string_list + number_list)\n",
    "print(string_list*3)\n",
    "print(\"hello\" in string_list)\n",
    "print(\"houdini\" in string_list)"
   ]
  },
  {
   "cell_type": "markdown",
   "metadata": {},
   "source": [
    "## basic list methods\n",
    "### access values in list"
   ]
  },
  {
   "cell_type": "code",
   "execution_count": 4,
   "metadata": {},
   "outputs": [
    {
     "name": "stdout",
     "output_type": "stream",
     "text": [
      "hello , string_list element 1\n",
      "goodbye , string_list element 2\n"
     ]
    }
   ],
   "source": [
    "print(string_list[0], \", string_list element 1\")\n",
    "print(string_list[1], \", string_list element 2\")"
   ]
  },
  {
   "cell_type": "markdown",
   "metadata": {},
   "source": [
    "### slicing"
   ]
  },
  {
   "cell_type": "code",
   "execution_count": 5,
   "metadata": {},
   "outputs": [
    {
     "name": "stdout",
     "output_type": "stream",
     "text": [
      "['no more ideas', 'etc.']\n",
      "['goodbye', 'no more ideas']\n",
      "etc.\n",
      "['goodbye', 'no more ideas', 'etc.']\n"
     ]
    }
   ],
   "source": [
    "print(string_list[2:4])\n",
    "print(string_list[1:3])\n",
    "print(string_list[-1])\n",
    "print(string_list[-3:])"
   ]
  },
  {
   "cell_type": "markdown",
   "metadata": {},
   "source": [
    "### initialize empty list"
   ]
  },
  {
   "cell_type": "code",
   "execution_count": 15,
   "metadata": {},
   "outputs": [],
   "source": [
    "my_list = []"
   ]
  },
  {
   "cell_type": "markdown",
   "metadata": {},
   "source": [
    "### append object to the end of the list: **list.append(obj)**"
   ]
  },
  {
   "cell_type": "code",
   "execution_count": 27,
   "metadata": {},
   "outputs": [
    {
     "name": "stdout",
     "output_type": "stream",
     "text": [
      "['start', 1, 100, 5, 5, 5, 5, 5, 5, 5, 5, 5, 5, 5, 5, 5, 5, 5, 5, 5, 1]\n",
      "['start', 1, 100, 5, 5, 5, 5, 5, 5, 5, 5, 5, 5, 5, 5, 5, 5, 5, 5, 5, 1, 10]\n",
      "['start', 1, 100, 5, 5, 5, 5, 5, 5, 5, 5, 5, 5, 5, 5, 5, 5, 5, 5, 5, 1, 10, 100]\n"
     ]
    }
   ],
   "source": [
    "my_list.append(1)\n",
    "print(my_list)\n",
    "my_list.append(10)\n",
    "print(my_list)\n",
    "my_list.append(100)\n",
    "print(my_list)"
   ]
  },
  {
   "cell_type": "markdown",
   "metadata": {},
   "source": [
    "### extend objects to the end of the list, list.extend([obj, obj, obj])"
   ]
  },
  {
   "cell_type": "code",
   "execution_count": 18,
   "metadata": {},
   "outputs": [
    {
     "name": "stdout",
     "output_type": "stream",
     "text": [
      "[1, 10, 100, 5, 5, 5, 5, 5, 5, 5, 5, 5, 5, 5, 5, 5, 5, 5, 5, 5, 5, 5, 5]\n"
     ]
    }
   ],
   "source": [
    "my_list.extend([5]*10)\n",
    "print(my_list)"
   ]
  },
  {
   "cell_type": "markdown",
   "metadata": {},
   "source": [
    "### inserts an object into a list at specific index"
   ]
  },
  {
   "cell_type": "code",
   "execution_count": 20,
   "metadata": {},
   "outputs": [
    {
     "name": "stdout",
     "output_type": "stream",
     "text": [
      "['start', 1, 10, 100, 5, 5, 5, 5, 5, 5, 5, 5, 5, 5, 5, 5, 5, 5, 5, 5, 5, 5, 5, 5]\n",
      "['start', 1, 10, 100, 5, 5, 5, 5, 5, 5, 5, 5, 5, 5, 5, 5, 5, 5, 5, 5, 5, 5, 5, 5, 'end']\n"
     ]
    }
   ],
   "source": [
    "my_list.insert(0, \"start\")\n",
    "print(my_list)\n",
    "my_list.insert(len(my_list), \"end\")\n",
    "print(my_list)"
   ]
  },
  {
   "cell_type": "markdown",
   "metadata": {},
   "source": [
    "### removes and returns last object from list"
   ]
  },
  {
   "cell_type": "code",
   "execution_count": 24,
   "metadata": {},
   "outputs": [
    {
     "name": "stdout",
     "output_type": "stream",
     "text": [
      "['start', 1, 10, 100, 5, 5, 5, 5, 5, 5, 5, 5, 5, 5, 5, 5, 5, 5, 5, 5, 5]\n",
      "5\n"
     ]
    }
   ],
   "source": [
    "obj = my_list.pop()\n",
    "print(my_list)\n",
    "print(obj)"
   ]
  },
  {
   "cell_type": "markdown",
   "metadata": {},
   "source": [
    "### removes object from list"
   ]
  },
  {
   "cell_type": "code",
   "execution_count": 28,
   "metadata": {},
   "outputs": [
    {
     "name": "stdout",
     "output_type": "stream",
     "text": [
      "['start', 1, 100, 5, 5, 5, 5, 5, 5, 5, 5, 5, 5, 5, 5, 5, 5, 5, 5, 5, 1, 100]\n"
     ]
    }
   ],
   "source": [
    "my_list.remove(10)\n",
    "print(my_list)"
   ]
  },
  {
   "cell_type": "markdown",
   "metadata": {},
   "source": [
    "### reverses objects of list in place"
   ]
  },
  {
   "cell_type": "code",
   "execution_count": 31,
   "metadata": {},
   "outputs": [
    {
     "name": "stdout",
     "output_type": "stream",
     "text": [
      "[100, 1, 5, 5, 5, 5, 5, 5, 5, 5, 5, 5, 5, 5, 5, 5, 5, 5, 5, 100, 1, 'start']\n"
     ]
    }
   ],
   "source": [
    "my_list.reverse()\n",
    "print(my_list)"
   ]
  },
  {
   "cell_type": "code",
   "execution_count": null,
   "metadata": {},
   "outputs": [],
   "source": [
    "my_list.remove(\"start\")"
   ]
  },
  {
   "cell_type": "markdown",
   "metadata": {},
   "source": [
    "### sorts elements in list"
   ]
  },
  {
   "cell_type": "code",
   "execution_count": 35,
   "metadata": {},
   "outputs": [
    {
     "name": "stdout",
     "output_type": "stream",
     "text": [
      "[1, 1, 5, 5, 5, 5, 5, 5, 5, 5, 5, 5, 5, 5, 5, 5, 5, 5, 5, 100, 100]\n"
     ]
    }
   ],
   "source": [
    "my_list.sort()\n",
    "print(my_list)"
   ]
  },
  {
   "cell_type": "markdown",
   "metadata": {},
   "source": [
    "# tuples"
   ]
  },
  {
   "cell_type": "markdown",
   "metadata": {},
   "source": [
    "A **tuple** is a sequence of immutable Python objects. <br>\n",
    "unlike lists, **tuples** cannot be changed "
   ]
  },
  {
   "cell_type": "code",
   "execution_count": 1,
   "metadata": {},
   "outputs": [
    {
     "name": "stdout",
     "output_type": "stream",
     "text": [
      "(1, 2, 3)\n",
      "(1, 2, 3, 'hello', 'goodbye')\n"
     ]
    }
   ],
   "source": [
    "my_tuple_1 = (1, 2, 3)\n",
    "my_tuple_2 = (\"hello\", \"goodbye\")\n",
    "print(my_tuple_1)\n",
    "print(my_tuple_1 + my_tuple_2)"
   ]
  },
  {
   "cell_type": "markdown",
   "metadata": {},
   "source": [
    "access and functionality similar as lists"
   ]
  },
  {
   "cell_type": "code",
   "execution_count": 8,
   "metadata": {},
   "outputs": [
    {
     "name": "stdout",
     "output_type": "stream",
     "text": [
      "2\n",
      "(2, 3)\n"
     ]
    }
   ],
   "source": [
    "print(my_tuple_1[1])\n",
    "print(my_tuple_1[1:3])"
   ]
  },
  {
   "cell_type": "markdown",
   "metadata": {},
   "source": [
    "### methods that cannot be used are:"
   ]
  },
  {
   "cell_type": "markdown",
   "metadata": {},
   "source": [
    "**append(), extend(), insert(), remove(), pop()** ..."
   ]
  },
  {
   "cell_type": "markdown",
   "metadata": {},
   "source": [
    "# dictionaries"
   ]
  },
  {
   "cell_type": "code",
   "execution_count": 9,
   "metadata": {},
   "outputs": [
    {
     "name": "stdout",
     "output_type": "stream",
     "text": [
      "my_dict['Name']:  Stefana\n",
      "my_dict['Age']:  21\n"
     ]
    }
   ],
   "source": [
    "my_dict = {\"Name\" : \"Stefana\", \"Age\" : 21, \"Profession\" : \"Architect\"}\n",
    "print(\"my_dict['Name']: \", my_dict['Name'])\n",
    "print(\"my_dict['Age']: \", my_dict['Age'])"
   ]
  },
  {
   "cell_type": "code",
   "execution_count": 13,
   "metadata": {},
   "outputs": [
    {
     "name": "stdout",
     "output_type": "stream",
     "text": [
      "(8, 1, 89)\n",
      "b\n"
     ]
    }
   ],
   "source": [
    "my_dict_2 = {2:[\"a\", 34], 62:(8, 1, 89), \"test\":{1:3, 5:67, \"a\":\"b\"}}\n",
    "print(my_dict_2[62])\n",
    "print(my_dict_2[\"test\"][\"a\"])"
   ]
  },
  {
   "cell_type": "code",
   "execution_count": 17,
   "metadata": {},
   "outputs": [],
   "source": [
    "my_dict['Age'] = 25; # update existing entry\n",
    "my_dict['Programme'] = \"Technology Track\"; # add new entry"
   ]
  },
  {
   "cell_type": "code",
   "execution_count": 18,
   "metadata": {},
   "outputs": [
    {
     "name": "stdout",
     "output_type": "stream",
     "text": [
      "my_dict['Name']:  Stefana\n",
      "my_dict['Programme']:  Technology Track\n"
     ]
    }
   ],
   "source": [
    "print(\"my_dict['Name']: \", my_dict['Name'])\n",
    "print(\"my_dict['Programme']: \", my_dict['Programme'])"
   ]
  },
  {
   "cell_type": "code",
   "execution_count": 19,
   "metadata": {},
   "outputs": [],
   "source": [
    "my_dict.update({\"Age\":21, \"Height\":5.4, \"Profession\":\"Robot nerd\"})"
   ]
  },
  {
   "cell_type": "code",
   "execution_count": 21,
   "metadata": {},
   "outputs": [
    {
     "name": "stdout",
     "output_type": "stream",
     "text": [
      "{'Name': 'Stefana', 'Age': 21, 'Profession': 'Robot nerd', 'Programme': 'Technology Track', 'Height': 5.4}\n"
     ]
    }
   ],
   "source": [
    "print(my_dict)"
   ]
  },
  {
   "cell_type": "markdown",
   "metadata": {},
   "source": [
    "**keys** must be immutable types (integers, floats, strings, tuples) <br>\n",
    "**values** can be anything"
   ]
  },
  {
   "cell_type": "code",
   "execution_count": 28,
   "metadata": {},
   "outputs": [
    {
     "name": "stdout",
     "output_type": "stream",
     "text": [
      "dict_keys(['Name', 'Age', 'Profession', 'Programme', 'Height'])\n"
     ]
    }
   ],
   "source": [
    "all_keys = my_dict.keys()\n",
    "print(all_keys)"
   ]
  }
 ],
 "metadata": {
  "kernelspec": {
   "display_name": "Python 3",
   "language": "python",
   "name": "python3"
  },
  "language_info": {
   "codemirror_mode": {
    "name": "ipython",
    "version": 3
   },
   "file_extension": ".py",
   "mimetype": "text/x-python",
   "name": "python",
   "nbconvert_exporter": "python",
   "pygments_lexer": "ipython3",
   "version": "3.6.5"
  }
 },
 "nbformat": 4,
 "nbformat_minor": 2
}
