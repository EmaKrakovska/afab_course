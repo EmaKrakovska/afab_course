{
 "cells": [
  {
   "cell_type": "markdown",
   "metadata": {},
   "source": [
    "### visualisation\n",
    "print out the list in a matrix form (every sub-list in a row)"
   ]
  },
  {
   "cell_type": "code",
   "execution_count": 1,
   "metadata": {},
   "outputs": [],
   "source": [
    "def print_ttt(list_ttt):\n",
    "    for t in list_ttt:\n",
    "        print(t)"
   ]
  },
  {
   "cell_type": "markdown",
   "metadata": {},
   "source": [
    "### check for winner\n",
    "write a function that takes a list of the form <br>\n",
    "[[1,1,1],<br>[1,1,1],<br>[1,1,1]]<br> as input and checks if all elements in a combinations that forms a row are the same. For example (list[0][0], list[1][1], list[2][2]) form a diagonal. "
   ]
  },
  {
   "cell_type": "code",
   "execution_count": 6,
   "metadata": {},
   "outputs": [],
   "source": [
    "def check_winner(list_ttt):\n",
    "    comb_three = []\n",
    "    for i,row in enumerate(list_ttt):\n",
    "        comb_three.append(row)\n",
    "    \n",
    "    for j, el in enumerate(list_ttt[0]):\n",
    "        comb_three.append([])\n",
    "        for i, el2 in enumerate(list_ttt):\n",
    "            comb_three[-1].append(list_ttt[i][j])\n",
    "            \n",
    "#         comb_three.append([list_ttt[0][j],  list_ttt[1][j], list_ttt[2][j]])\n",
    "    comb_three.append([list_ttt[0][0], list_ttt[1][1], list_ttt[2][2]])\n",
    "    comb_three.append([list_ttt[0][2], list_ttt[1][1], list_ttt[2][0]])\n",
    "    \n",
    "    print(comb_three)\n",
    "    \n",
    "    for comb in comb_three:\n",
    "        if type(comb[0]) == str:\n",
    "            if all(x == comb[0] for x in comb):\n",
    "                print(\"Winner\")\n",
    "                return True\n",
    "    return False\n",
    "#             else:\n",
    "#                 print(\"All elements in list are not equal\")\n",
    "\n",
    "                           "
   ]
  },
  {
   "cell_type": "markdown",
   "metadata": {},
   "source": [
    "### play\n",
    "write a function that defines one move for each player: call \"input()\" to ask for a string user input <br>\n",
    "the code should follow these steps: <br>\n",
    "ask for input row from player 1 <br>\n",
    "ask for input column for player 2 <br>\n",
    "add \"X\" to th elist at the position [row][column]<br>\n",
    "check if player won (call function already defined) <br>\n",
    "ask for input row from player 1 <br>\n",
    "ask for input column for player 2 <br>\n",
    "add \"X\" to th elist at the position [row][column]<br>\n",
    "check if player won (call function already defined) <br>"
   ]
  },
  {
   "cell_type": "code",
   "execution_count": 3,
   "metadata": {},
   "outputs": [],
   "source": [
    "def play():\n",
    "    row_1 = input(\"row nb X \")\n",
    "    column_1 = input(\"column nb X \")\n",
    "    tictactoe_list[int(row_1)][int(column_1)] = \"X\"\n",
    "    print_ttt(tictactoe_list)\n",
    "\n",
    "    win_test = check_winner(tictactoe_list)\n",
    "    if win_test == True:\n",
    "        print(\"You won!!\")\n",
    "        return True\n",
    "\n",
    "    row_2 = input(\"row nb O \")\n",
    "    column_2 = input(\"column nb O \")\n",
    "    tictactoe_list[int(row_2)][int(column_2)] = \"O\"\n",
    "    print_ttt(tictactoe_list)\n",
    "\n",
    "    win_test = check_winner(tictactoe_list)\n",
    "    if win_test == True:\n",
    "        print(\"You won!!\")\n",
    "        return True\n",
    "    \n",
    "    return False"
   ]
  },
  {
   "cell_type": "markdown",
   "metadata": {},
   "source": [
    "### input list hardcoded"
   ]
  },
  {
   "cell_type": "code",
   "execution_count": 4,
   "metadata": {},
   "outputs": [
    {
     "name": "stdout",
     "output_type": "stream",
     "text": [
      "[1, 1, 1]\n",
      "[1, 1, 1]\n",
      "[1, 1, 1]\n"
     ]
    }
   ],
   "source": [
    "tictactoe_list = [[1,1,1],\n",
    "                 [1,1,1],\n",
    "                 [1,1,1]]\n",
    "\n",
    "print_ttt(tictactoe_list)"
   ]
  },
  {
   "cell_type": "markdown",
   "metadata": {},
   "source": [
    "### play in a loop until someone wins"
   ]
  },
  {
   "cell_type": "code",
   "execution_count": null,
   "metadata": {},
   "outputs": [
    {
     "name": "stdout",
     "output_type": "stream",
     "text": [
      "row nb X 0\n",
      "column nb X 0\n",
      "['X', 1, 1]\n",
      "[1, 'O', 1]\n",
      "[1, 1, 1]\n",
      "[['X', 1, 1], [1, 'O', 1], [1, 1, 1], ['X', 1, 1], [1, 'O', 1], [1, 1, 1], ['X', 'O', 1], [1, 'O', 1]]\n",
      "row nb O 1\n",
      "column nb O 1\n",
      "['X', 1, 1]\n",
      "[1, 'O', 1]\n",
      "[1, 1, 1]\n",
      "[['X', 1, 1], [1, 'O', 1], [1, 1, 1], ['X', 1, 1], [1, 'O', 1], [1, 1, 1], ['X', 'O', 1], [1, 'O', 1]]\n"
     ]
    }
   ],
   "source": [
    "for i in range(10):\n",
    "    win_test = play()\n",
    "#     print(\"win output\", win_test)\n",
    "    if win_test == True:\n",
    "        print(\"You won!!\")\n",
    "        break"
   ]
  },
  {
   "cell_type": "markdown",
   "metadata": {},
   "source": [
    "### exercise rhino: write code in rhino python to update a drawing board"
   ]
  },
  {
   "cell_type": "markdown",
   "metadata": {},
   "source": [
    "use following functions:\n",
    "\n",
    "import Rhino.Geometry as rg <br>\n",
    "import rhinoscriptsyntax as rs <br>\n",
    "\n",
    "rg.Point3d() <br>\n",
    "rg.Sphere() - check exercise last year <br>\n"
   ]
  },
  {
   "cell_type": "code",
   "execution_count": 19,
   "metadata": {},
   "outputs": [
    {
     "name": "stdout",
     "output_type": "stream",
     "text": [
      "[[(0.0, 0.0, 0), (0.0, 3.3333333333333335, 0), (0.0, 6.666666666666667, 0), (0.0, 10.0, 0)], [(3.3333333333333335, 0.0, 0), (3.3333333333333335, 3.3333333333333335, 0), (3.3333333333333335, 6.666666666666667, 0), (3.3333333333333335, 10.0, 0)], [(6.666666666666667, 0.0, 0), (6.666666666666667, 3.3333333333333335, 0), (6.666666666666667, 6.666666666666667, 0), (6.666666666666667, 10.0, 0)], [(10.0, 0.0, 0), (10.0, 3.3333333333333335, 0), (10.0, 6.666666666666667, 0), (10.0, 10.0, 0)]]\n"
     ]
    }
   ],
   "source": [
    "def draw_board(size):\n",
    "    dim_cell = size/3\n",
    "    pt_cen = (0,0,0)\n",
    "    points_grid = []\n",
    "    for i in range(4):\n",
    "        points_grid.append([])\n",
    "        for j in range(4):\n",
    "            points_grid[i].append((i*dim_cell, j*dim_cell, 0))\n",
    "    print(points_grid)\n",
    "    \n",
    "    #draw lines between points\n",
    "    for i in range(len(points_grid)):\n",
    "        for j in range(len(points_grid)):\n",
    "            if i != len(points_grid)-1 and j != len(points_grid)-1:\n",
    "                pt1 = points_grid[i][j]\n",
    "                pt2 = points_grid[i][j+1]\n",
    "                pt3 = points_grid[i+1][j]\n",
    "                # draw lines (pt1, pt2) and (pt1, pt3)\n",
    "            elif i != len(points_grid)-1:\n",
    "                pt1 = points_grid[i][j]\n",
    "                pt3 = points_grid[i+1][j]\n",
    "                # draw line (pt1, pt3)\n",
    "            elif j != len(points_grid)-1:\n",
    "                pt1 = points_grid[i][j]\n",
    "                pt2 = points_grid[i][j+1]\n",
    "\n",
    "    \n",
    "draw_board(10)"
   ]
  },
  {
   "cell_type": "code",
   "execution_count": 6,
   "metadata": {},
   "outputs": [
    {
     "name": "stdout",
     "output_type": "stream",
     "text": [
      "test input types[0,1]\n",
      "<class 'str'>\n"
     ]
    }
   ],
   "source": [
    "test_input = input(\"test input types\")\n",
    "print(type(test_input))"
   ]
  },
  {
   "cell_type": "code",
   "execution_count": null,
   "metadata": {},
   "outputs": [],
   "source": []
  }
 ],
 "metadata": {
  "kernelspec": {
   "display_name": "Python 3",
   "language": "python",
   "name": "python3"
  },
  "language_info": {
   "codemirror_mode": {
    "name": "ipython",
    "version": 3
   },
   "file_extension": ".py",
   "mimetype": "text/x-python",
   "name": "python",
   "nbconvert_exporter": "python",
   "pygments_lexer": "ipython3",
   "version": "3.6.6"
  }
 },
 "nbformat": 4,
 "nbformat_minor": 2
}
